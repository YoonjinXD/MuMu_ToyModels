{
 "cells": [
  {
   "cell_type": "code",
   "execution_count": 1,
   "metadata": {},
   "outputs": [],
   "source": [
    "import os\n",
    "import warnings\n",
    "warnings.filterwarnings(action='ignore')\n",
    "\n",
    "import numpy as np\n",
    "import pandas as pd\n",
    "\n",
    "import torch\n",
    "import torchaudio\n",
    "import torchvision\n",
    "import torch.nn as nn\n",
    "\n",
    "from tqdm.notebook import tqdm\n",
    "from torch.optim.lr_scheduler import ReduceLROnPlateau\n",
    "from sklearn import metrics\n",
    "\n",
    "from torch.utils.data import Dataset, DataLoader\n",
    "from torchvision import transforms\n",
    "\n",
    "from matplotlib import pyplot as plt\n",
    "from PIL import Image\n",
    "\n",
    "import pickle\n"
   ]
  },
  {
   "cell_type": "markdown",
   "metadata": {},
   "source": [
    "# Data preprocessing"
   ]
  },
  {
   "cell_type": "code",
   "execution_count": 2,
   "metadata": {},
   "outputs": [],
   "source": [
    "TAGS = ['Blues', 'Jazz', 'Rock', 'R&B', 'Alternative Rock', 'Latin Music', 'Country',\n",
    " 'Rap & Hip-Hop', 'Dance & Electronic', 'Reggae', 'Classical', 'Metal', 'Pop',\n",
    " 'New Age', 'Folk', 'Gospel']"
   ]
  },
  {
   "cell_type": "code",
   "execution_count": 4,
   "metadata": {},
   "outputs": [],
   "source": [
    "# Convert image files to tensor files & Save\n",
    "data = pd.read_csv(\"./MuMu_dataset/MuMu_dataset_all-label.csv\", sep=\",\", index_col=0)\n",
    "\n",
    "trans = transforms.Compose([transforms.Resize((224, 224)),\n",
    "                            transforms.ToTensor(),\n",
    "                            transforms.Normalize([0.485, 0.456, 0.406], [0.229, 0.224, 0.225])])\n",
    "\n",
    "for idx in range(len(data)):\n",
    "    img_path = data.iloc[idx].img_path\n",
    "    img = Image.open(img_path).convert(\"RGB\")\n",
    "    torch.save(trans(img), img_path.replace(\".jpg\", \".pt\"))"
   ]
  },
  {
   "cell_type": "code",
   "execution_count": 5,
   "metadata": {},
   "outputs": [],
   "source": [
    "class AlbumGenreDataset(Dataset):\n",
    "    def __init__(self, data, group='debug'):\n",
    "        \"\"\"\n",
    "        data (Pandas.DataFrame): ['amazon_id', 'title', 'artist', 'img_path', 'genre']\n",
    "        group (String): split group e.g. train, valid\n",
    "        \"\"\"\n",
    "        self.data = data\n",
    "        self.group = group\n",
    "\n",
    "    def __getitem__(self, index):\n",
    "        item = self.data.iloc[index]\n",
    "        img = torch.load(item.img_path.replace(\".jpg\", \".pt\"))\n",
    "\n",
    "        label = TAGS.index(item.genre)\n",
    "        return img, label\n",
    "        \n",
    "\n",
    "    def __len__(self):\n",
    "        return len(self.data)"
   ]
  },
  {
   "cell_type": "code",
   "execution_count": 6,
   "metadata": {},
   "outputs": [
    {
     "name": "stdout",
     "output_type": "stream",
     "text": [
      "(TRAIN, VALID, TEST) =  1346 449 449\n"
     ]
    }
   ],
   "source": [
    "data_num = len(data)\n",
    "tr_data = AlbumGenreDataset(data[:int(data_num*0.6)], 'TRAIN')\n",
    "va_data = AlbumGenreDataset(data[int(data_num*0.6):int(data_num*0.8)], 'VALID')\n",
    "te_data = AlbumGenreDataset(data[int(data_num*0.8):], 'TEST')\n",
    "print(\"(TRAIN, VALID, TEST) = \", len(tr_data), len(va_data), len(te_data))"
   ]
  },
  {
   "cell_type": "code",
   "execution_count": 7,
   "metadata": {},
   "outputs": [],
   "source": [
    "BATCH_SIZE = 16\n",
    "loader_train = DataLoader(tr_data, batch_size=BATCH_SIZE, shuffle=True, drop_last=True)\n",
    "loader_valid = DataLoader(va_data, batch_size=BATCH_SIZE, shuffle=True, drop_last=True)\n",
    "loader_test = DataLoader(te_data, batch_size=BATCH_SIZE, shuffle=True, drop_last=True)"
   ]
  },
  {
   "cell_type": "markdown",
   "metadata": {},
   "source": [
    "# Train simple baseline Model"
   ]
  },
  {
   "cell_type": "code",
   "execution_count": 8,
   "metadata": {},
   "outputs": [],
   "source": [
    "class Baseline(nn.Module):\n",
    "    def __init__(self, n_class=16):\n",
    "        super(Baseline, self).__init__()\n",
    "        self.conv0 = nn.Sequential(\n",
    "            nn.Conv2d(3, out_channels=32, kernel_size=3, stride=1, padding=3),\n",
    "            nn.BatchNorm2d(32),\n",
    "            nn.ReLU(),\n",
    "            nn.MaxPool2d(kernel_size=3, stride=3))\n",
    "\n",
    "        self.conv1 = nn.Sequential(\n",
    "            nn.Conv2d(32, out_channels=32, kernel_size=3, stride=1, padding=3),\n",
    "            nn.BatchNorm2d(32),\n",
    "            nn.ReLU(),\n",
    "            nn.MaxPool2d(kernel_size=3, stride=3))\n",
    "\n",
    "        self.conv2 = nn.Sequential(\n",
    "            nn.Conv2d(32, out_channels=32, kernel_size=3, stride=1, padding=3),\n",
    "            nn.BatchNorm2d(32),\n",
    "            nn.ReLU(),\n",
    "            nn.MaxPool2d(kernel_size=3, stride=3))\n",
    "        \n",
    "        self.final_pool = nn.AdaptiveAvgPool2d(1)\n",
    "        self.linear = nn.Linear(32, n_class)\n",
    "        \n",
    "        \n",
    "    def forward(self, x):\n",
    "        x = self.conv0(x)\n",
    "        x = self.conv1(x)\n",
    "        x = self.conv2(x)\n",
    "        x = self.final_pool(x)\n",
    "        x = x.view(x.size(0), -1)\n",
    "        x = self.linear(x)\n",
    "        out = nn.Softmax()(x)\n",
    "        return out"
   ]
  },
  {
   "cell_type": "code",
   "execution_count": 9,
   "metadata": {},
   "outputs": [],
   "source": [
    "class Runner(object):\n",
    "  def __init__(self, model, lr, weight_decay, sr, tags):\n",
    "    self.optimizer = torch.optim.Adam(model.parameters(), lr=lr, weight_decay=weight_decay)\n",
    "    self.scheduler = ReduceLROnPlateau(self.optimizer, mode='min', factor=0.2, patience=5, verbose=True)\n",
    "    self.learning_rate = lr\n",
    "    self.stopping_rate = sr\n",
    "    self.device = torch.device('cuda') if torch.cuda.is_available() else torch.device('cpu')\n",
    "    self.model = model.to(self.device)\n",
    "    self.criterion = torch.nn.CrossEntropyLoss().to(self.device)\n",
    "    self.tags = tags\n",
    "\n",
    "  def run(self, dataloader, epoch, mode='TRAIN'):\n",
    "    self.model.train() if mode is 'TRAIN' else self.model.eval()\n",
    "\n",
    "    epoch_loss = 0\n",
    "    pbar = tqdm(dataloader, desc=f'{mode} Epoch {epoch:02}')  # progress bar\n",
    "    for x, y in pbar:\n",
    "      x = x.to(self.device)\n",
    "      y = y.to(self.device)\n",
    "      prediction = self.model(x)\n",
    "      loss = self.criterion(prediction, y)\n",
    "      if mode is 'TRAIN':\n",
    "        loss.backward()\n",
    "        self.optimizer.step()\n",
    "        self.optimizer.zero_grad()\n",
    "\n",
    "      batch_size = len(x)\n",
    "      epoch_loss += batch_size * loss.item()\n",
    "    epoch_loss = epoch_loss / len(dataloader.dataset)\n",
    "    return epoch_loss\n",
    "\n",
    "  def test(self, dataloader):\n",
    "    self.model.eval()\n",
    "    total = 0\n",
    "    correct = 0\n",
    "\n",
    "    pbar = tqdm(dataloader, desc=f'TEST')\n",
    "    for x, y in pbar:\n",
    "      x = x.to(self.device)\n",
    "      y = y.to(self.device)\n",
    "      output = self.model(x)\n",
    "\n",
    "      _, predicted = torch.max(output.data, 1)\n",
    "      total += y.size(0)\n",
    "      correct += (predicted == y).sum().item()\n",
    "      \n",
    "    return 100 * correct / total\n",
    "\n",
    "  def early_stop(self, loss, epoch):\n",
    "    self.scheduler.step(loss, epoch)\n",
    "    self.learning_rate = self.optimizer.param_groups[0]['lr']\n",
    "    stop = self.learning_rate < self.stopping_rate\n",
    "    return stop\n"
   ]
  },
  {
   "cell_type": "code",
   "execution_count": 10,
   "metadata": {},
   "outputs": [],
   "source": [
    "# Training setup.\n",
    "LR = 1e-3  # learning rate\n",
    "SR = 1e-5  # stopping rate\n",
    "NUM_EPOCHS = 50\n",
    "WEIGHT_DECAY = 1e-5  # L2 regularization weight\n",
    "\n",
    "model = Baseline()\n",
    "runner = Runner(model=model, lr = LR, weight_decay = WEIGHT_DECAY, sr = SR, tags=TAGS)"
   ]
  },
  {
   "cell_type": "code",
   "execution_count": 11,
   "metadata": {},
   "outputs": [
    {
     "data": {
      "application/vnd.jupyter.widget-view+json": {
       "model_id": "90b2bbbcf20943788bd16fabdd284a9e",
       "version_major": 2,
       "version_minor": 0
      },
      "text/plain": [
       "TRAIN Epoch 00:   0%|          | 0/84 [00:00<?, ?it/s]"
      ]
     },
     "metadata": {},
     "output_type": "display_data"
    },
    {
     "data": {
      "application/vnd.jupyter.widget-view+json": {
       "model_id": "b22ce4f39a1e47e998fc0fbe8e5cbbe3",
       "version_major": 2,
       "version_minor": 0
      },
      "text/plain": [
       "VALID Epoch 00:   0%|          | 0/28 [00:00<?, ?it/s]"
      ]
     },
     "metadata": {},
     "output_type": "display_data"
    },
    {
     "name": "stdout",
     "output_type": "stream",
     "text": [
      "[Epoch 1/50] [Train Loss: 2.7321] [Valid Loss: 2.6883]\n"
     ]
    },
    {
     "data": {
      "application/vnd.jupyter.widget-view+json": {
       "model_id": "9f9c4f25710847a094fb9d5ddf492c8d",
       "version_major": 2,
       "version_minor": 0
      },
      "text/plain": [
       "TRAIN Epoch 01:   0%|          | 0/84 [00:00<?, ?it/s]"
      ]
     },
     "metadata": {},
     "output_type": "display_data"
    },
    {
     "data": {
      "application/vnd.jupyter.widget-view+json": {
       "model_id": "a2a2fa6b18fd43dbac4dafe1acad0ce3",
       "version_major": 2,
       "version_minor": 0
      },
      "text/plain": [
       "VALID Epoch 01:   0%|          | 0/28 [00:00<?, ?it/s]"
      ]
     },
     "metadata": {},
     "output_type": "display_data"
    },
    {
     "name": "stdout",
     "output_type": "stream",
     "text": [
      "[Epoch 2/50] [Train Loss: 2.6449] [Valid Loss: 2.6461]\n"
     ]
    },
    {
     "data": {
      "application/vnd.jupyter.widget-view+json": {
       "model_id": "a5b9abe2476b47d2877cd57cafcd1f3b",
       "version_major": 2,
       "version_minor": 0
      },
      "text/plain": [
       "TRAIN Epoch 02:   0%|          | 0/84 [00:00<?, ?it/s]"
      ]
     },
     "metadata": {},
     "output_type": "display_data"
    },
    {
     "data": {
      "application/vnd.jupyter.widget-view+json": {
       "model_id": "ca3dc1a3201c4ac8bda909eaaa1d39ad",
       "version_major": 2,
       "version_minor": 0
      },
      "text/plain": [
       "VALID Epoch 02:   0%|          | 0/28 [00:00<?, ?it/s]"
      ]
     },
     "metadata": {},
     "output_type": "display_data"
    },
    {
     "name": "stdout",
     "output_type": "stream",
     "text": [
      "[Epoch 3/50] [Train Loss: 2.6269] [Valid Loss: 2.6409]\n"
     ]
    },
    {
     "data": {
      "application/vnd.jupyter.widget-view+json": {
       "model_id": "c16d223d50d64982a71b48d84b2e67af",
       "version_major": 2,
       "version_minor": 0
      },
      "text/plain": [
       "TRAIN Epoch 03:   0%|          | 0/84 [00:00<?, ?it/s]"
      ]
     },
     "metadata": {},
     "output_type": "display_data"
    },
    {
     "data": {
      "application/vnd.jupyter.widget-view+json": {
       "model_id": "54c35ab46ae7478594cb6f0a77df7c74",
       "version_major": 2,
       "version_minor": 0
      },
      "text/plain": [
       "VALID Epoch 03:   0%|          | 0/28 [00:00<?, ?it/s]"
      ]
     },
     "metadata": {},
     "output_type": "display_data"
    },
    {
     "name": "stdout",
     "output_type": "stream",
     "text": [
      "[Epoch 4/50] [Train Loss: 2.6238] [Valid Loss: 2.6379]\n"
     ]
    },
    {
     "data": {
      "application/vnd.jupyter.widget-view+json": {
       "model_id": "50b472c195104f8da0e5c99f234b6be1",
       "version_major": 2,
       "version_minor": 0
      },
      "text/plain": [
       "TRAIN Epoch 04:   0%|          | 0/84 [00:00<?, ?it/s]"
      ]
     },
     "metadata": {},
     "output_type": "display_data"
    },
    {
     "data": {
      "application/vnd.jupyter.widget-view+json": {
       "model_id": "41626906600240b8b087875a89315588",
       "version_major": 2,
       "version_minor": 0
      },
      "text/plain": [
       "VALID Epoch 04:   0%|          | 0/28 [00:00<?, ?it/s]"
      ]
     },
     "metadata": {},
     "output_type": "display_data"
    },
    {
     "name": "stdout",
     "output_type": "stream",
     "text": [
      "[Epoch 5/50] [Train Loss: 2.6215] [Valid Loss: 2.6382]\n"
     ]
    },
    {
     "data": {
      "application/vnd.jupyter.widget-view+json": {
       "model_id": "15c804e98bb24cff80adf1719457493f",
       "version_major": 2,
       "version_minor": 0
      },
      "text/plain": [
       "TRAIN Epoch 05:   0%|          | 0/84 [00:00<?, ?it/s]"
      ]
     },
     "metadata": {},
     "output_type": "display_data"
    },
    {
     "data": {
      "application/vnd.jupyter.widget-view+json": {
       "model_id": "bd81082a8b5140298fe0dee47fd25d00",
       "version_major": 2,
       "version_minor": 0
      },
      "text/plain": [
       "VALID Epoch 05:   0%|          | 0/28 [00:00<?, ?it/s]"
      ]
     },
     "metadata": {},
     "output_type": "display_data"
    },
    {
     "name": "stdout",
     "output_type": "stream",
     "text": [
      "[Epoch 6/50] [Train Loss: 2.6214] [Valid Loss: 2.6343]\n"
     ]
    },
    {
     "data": {
      "application/vnd.jupyter.widget-view+json": {
       "model_id": "82562facf2fd4e79a5200da96a58d173",
       "version_major": 2,
       "version_minor": 0
      },
      "text/plain": [
       "TRAIN Epoch 06:   0%|          | 0/84 [00:00<?, ?it/s]"
      ]
     },
     "metadata": {},
     "output_type": "display_data"
    },
    {
     "data": {
      "application/vnd.jupyter.widget-view+json": {
       "model_id": "0a074b328a2046739b3b58fc567edae3",
       "version_major": 2,
       "version_minor": 0
      },
      "text/plain": [
       "VALID Epoch 06:   0%|          | 0/28 [00:00<?, ?it/s]"
      ]
     },
     "metadata": {},
     "output_type": "display_data"
    },
    {
     "name": "stdout",
     "output_type": "stream",
     "text": [
      "[Epoch 7/50] [Train Loss: 2.6199] [Valid Loss: 2.6345]\n"
     ]
    },
    {
     "data": {
      "application/vnd.jupyter.widget-view+json": {
       "model_id": "16fffeea619548b58c37ebb5b4d68501",
       "version_major": 2,
       "version_minor": 0
      },
      "text/plain": [
       "TRAIN Epoch 07:   0%|          | 0/84 [00:00<?, ?it/s]"
      ]
     },
     "metadata": {},
     "output_type": "display_data"
    },
    {
     "data": {
      "application/vnd.jupyter.widget-view+json": {
       "model_id": "3f2bb403c73d4c8b8c224d7ff00060a2",
       "version_major": 2,
       "version_minor": 0
      },
      "text/plain": [
       "VALID Epoch 07:   0%|          | 0/28 [00:00<?, ?it/s]"
      ]
     },
     "metadata": {},
     "output_type": "display_data"
    },
    {
     "name": "stdout",
     "output_type": "stream",
     "text": [
      "[Epoch 8/50] [Train Loss: 2.6166] [Valid Loss: 2.6375]\n"
     ]
    },
    {
     "data": {
      "application/vnd.jupyter.widget-view+json": {
       "model_id": "ef91d6d314e244a48621e1d6205c9327",
       "version_major": 2,
       "version_minor": 0
      },
      "text/plain": [
       "TRAIN Epoch 08:   0%|          | 0/84 [00:00<?, ?it/s]"
      ]
     },
     "metadata": {},
     "output_type": "display_data"
    },
    {
     "data": {
      "application/vnd.jupyter.widget-view+json": {
       "model_id": "b535148a0510496fb24e3379d37e4419",
       "version_major": 2,
       "version_minor": 0
      },
      "text/plain": [
       "VALID Epoch 08:   0%|          | 0/28 [00:00<?, ?it/s]"
      ]
     },
     "metadata": {},
     "output_type": "display_data"
    },
    {
     "name": "stdout",
     "output_type": "stream",
     "text": [
      "[Epoch 9/50] [Train Loss: 2.6160] [Valid Loss: 2.6355]\n"
     ]
    },
    {
     "data": {
      "application/vnd.jupyter.widget-view+json": {
       "model_id": "3de5a3c55a534de3a27d32cfceb271c1",
       "version_major": 2,
       "version_minor": 0
      },
      "text/plain": [
       "TRAIN Epoch 09:   0%|          | 0/84 [00:00<?, ?it/s]"
      ]
     },
     "metadata": {},
     "output_type": "display_data"
    },
    {
     "data": {
      "application/vnd.jupyter.widget-view+json": {
       "model_id": "e1ec038014bd4828997ddbb6a0371bc7",
       "version_major": 2,
       "version_minor": 0
      },
      "text/plain": [
       "VALID Epoch 09:   0%|          | 0/28 [00:00<?, ?it/s]"
      ]
     },
     "metadata": {},
     "output_type": "display_data"
    },
    {
     "name": "stdout",
     "output_type": "stream",
     "text": [
      "[Epoch 10/50] [Train Loss: 2.6125] [Valid Loss: 2.6321]\n"
     ]
    },
    {
     "data": {
      "application/vnd.jupyter.widget-view+json": {
       "model_id": "6487f70ca68a4eefaf3f3fadee69886e",
       "version_major": 2,
       "version_minor": 0
      },
      "text/plain": [
       "TRAIN Epoch 10:   0%|          | 0/84 [00:00<?, ?it/s]"
      ]
     },
     "metadata": {},
     "output_type": "display_data"
    },
    {
     "data": {
      "application/vnd.jupyter.widget-view+json": {
       "model_id": "8156ad19e5514aaabeb860a69750dd23",
       "version_major": 2,
       "version_minor": 0
      },
      "text/plain": [
       "VALID Epoch 10:   0%|          | 0/28 [00:00<?, ?it/s]"
      ]
     },
     "metadata": {},
     "output_type": "display_data"
    },
    {
     "name": "stdout",
     "output_type": "stream",
     "text": [
      "[Epoch 11/50] [Train Loss: 2.6167] [Valid Loss: 2.6389]\n"
     ]
    },
    {
     "data": {
      "application/vnd.jupyter.widget-view+json": {
       "model_id": "27e42a0a09e14be98f96f839104be42a",
       "version_major": 2,
       "version_minor": 0
      },
      "text/plain": [
       "TRAIN Epoch 11:   0%|          | 0/84 [00:00<?, ?it/s]"
      ]
     },
     "metadata": {},
     "output_type": "display_data"
    },
    {
     "data": {
      "application/vnd.jupyter.widget-view+json": {
       "model_id": "4a52b0422d744ac8b34e23ca5e911dda",
       "version_major": 2,
       "version_minor": 0
      },
      "text/plain": [
       "VALID Epoch 11:   0%|          | 0/28 [00:00<?, ?it/s]"
      ]
     },
     "metadata": {},
     "output_type": "display_data"
    },
    {
     "name": "stdout",
     "output_type": "stream",
     "text": [
      "[Epoch 12/50] [Train Loss: 2.6133] [Valid Loss: 2.6265]\n"
     ]
    },
    {
     "data": {
      "application/vnd.jupyter.widget-view+json": {
       "model_id": "6b09a93080d74bb8a0e6ba7a189936d1",
       "version_major": 2,
       "version_minor": 0
      },
      "text/plain": [
       "TRAIN Epoch 12:   0%|          | 0/84 [00:00<?, ?it/s]"
      ]
     },
     "metadata": {},
     "output_type": "display_data"
    },
    {
     "data": {
      "application/vnd.jupyter.widget-view+json": {
       "model_id": "e4b300fe2a3e495e90cac250839d1d91",
       "version_major": 2,
       "version_minor": 0
      },
      "text/plain": [
       "VALID Epoch 12:   0%|          | 0/28 [00:00<?, ?it/s]"
      ]
     },
     "metadata": {},
     "output_type": "display_data"
    },
    {
     "name": "stdout",
     "output_type": "stream",
     "text": [
      "[Epoch 13/50] [Train Loss: 2.6082] [Valid Loss: 2.6330]\n"
     ]
    },
    {
     "data": {
      "application/vnd.jupyter.widget-view+json": {
       "model_id": "4b60a6db01ce4fa5bf670407a545191f",
       "version_major": 2,
       "version_minor": 0
      },
      "text/plain": [
       "TRAIN Epoch 13:   0%|          | 0/84 [00:00<?, ?it/s]"
      ]
     },
     "metadata": {},
     "output_type": "display_data"
    },
    {
     "data": {
      "application/vnd.jupyter.widget-view+json": {
       "model_id": "b13ede34a2a4442a9f583745301da8fc",
       "version_major": 2,
       "version_minor": 0
      },
      "text/plain": [
       "VALID Epoch 13:   0%|          | 0/28 [00:00<?, ?it/s]"
      ]
     },
     "metadata": {},
     "output_type": "display_data"
    },
    {
     "name": "stdout",
     "output_type": "stream",
     "text": [
      "[Epoch 14/50] [Train Loss: 2.6127] [Valid Loss: 2.6288]\n"
     ]
    },
    {
     "data": {
      "application/vnd.jupyter.widget-view+json": {
       "model_id": "ed4d03e393834c8f82055f736ccd2121",
       "version_major": 2,
       "version_minor": 0
      },
      "text/plain": [
       "TRAIN Epoch 14:   0%|          | 0/84 [00:00<?, ?it/s]"
      ]
     },
     "metadata": {},
     "output_type": "display_data"
    },
    {
     "data": {
      "application/vnd.jupyter.widget-view+json": {
       "model_id": "34d469ce827e4cf2bd7d82368ea59f3f",
       "version_major": 2,
       "version_minor": 0
      },
      "text/plain": [
       "VALID Epoch 14:   0%|          | 0/28 [00:00<?, ?it/s]"
      ]
     },
     "metadata": {},
     "output_type": "display_data"
    },
    {
     "name": "stdout",
     "output_type": "stream",
     "text": [
      "[Epoch 15/50] [Train Loss: 2.6078] [Valid Loss: 2.6181]\n"
     ]
    },
    {
     "data": {
      "application/vnd.jupyter.widget-view+json": {
       "model_id": "97c6673be49b461595b70598f7470698",
       "version_major": 2,
       "version_minor": 0
      },
      "text/plain": [
       "TRAIN Epoch 15:   0%|          | 0/84 [00:00<?, ?it/s]"
      ]
     },
     "metadata": {},
     "output_type": "display_data"
    },
    {
     "data": {
      "application/vnd.jupyter.widget-view+json": {
       "model_id": "c09cb432349c47c395732bd06b79d44b",
       "version_major": 2,
       "version_minor": 0
      },
      "text/plain": [
       "VALID Epoch 15:   0%|          | 0/28 [00:00<?, ?it/s]"
      ]
     },
     "metadata": {},
     "output_type": "display_data"
    },
    {
     "name": "stdout",
     "output_type": "stream",
     "text": [
      "[Epoch 16/50] [Train Loss: 2.6075] [Valid Loss: 2.6250]\n"
     ]
    },
    {
     "data": {
      "application/vnd.jupyter.widget-view+json": {
       "model_id": "d4c7791562b547c79b39fa4c10ee7981",
       "version_major": 2,
       "version_minor": 0
      },
      "text/plain": [
       "TRAIN Epoch 16:   0%|          | 0/84 [00:00<?, ?it/s]"
      ]
     },
     "metadata": {},
     "output_type": "display_data"
    },
    {
     "data": {
      "application/vnd.jupyter.widget-view+json": {
       "model_id": "f6b7a048a0df4b4eb8ac1b3b03b6ed33",
       "version_major": 2,
       "version_minor": 0
      },
      "text/plain": [
       "VALID Epoch 16:   0%|          | 0/28 [00:00<?, ?it/s]"
      ]
     },
     "metadata": {},
     "output_type": "display_data"
    },
    {
     "name": "stdout",
     "output_type": "stream",
     "text": [
      "[Epoch 17/50] [Train Loss: 2.6061] [Valid Loss: 2.6248]\n"
     ]
    },
    {
     "data": {
      "application/vnd.jupyter.widget-view+json": {
       "model_id": "8ab0faf163d34714a8b035f5db99201e",
       "version_major": 2,
       "version_minor": 0
      },
      "text/plain": [
       "TRAIN Epoch 17:   0%|          | 0/84 [00:00<?, ?it/s]"
      ]
     },
     "metadata": {},
     "output_type": "display_data"
    },
    {
     "data": {
      "application/vnd.jupyter.widget-view+json": {
       "model_id": "d049de18c13b4a319ac7da858747212c",
       "version_major": 2,
       "version_minor": 0
      },
      "text/plain": [
       "VALID Epoch 17:   0%|          | 0/28 [00:00<?, ?it/s]"
      ]
     },
     "metadata": {},
     "output_type": "display_data"
    },
    {
     "name": "stdout",
     "output_type": "stream",
     "text": [
      "[Epoch 18/50] [Train Loss: 2.6063] [Valid Loss: 2.6195]\n"
     ]
    },
    {
     "data": {
      "application/vnd.jupyter.widget-view+json": {
       "model_id": "dfa78506039b44b6be08058282f29429",
       "version_major": 2,
       "version_minor": 0
      },
      "text/plain": [
       "TRAIN Epoch 18:   0%|          | 0/84 [00:00<?, ?it/s]"
      ]
     },
     "metadata": {},
     "output_type": "display_data"
    },
    {
     "data": {
      "application/vnd.jupyter.widget-view+json": {
       "model_id": "496ff178409c49829a92fe20057e0b96",
       "version_major": 2,
       "version_minor": 0
      },
      "text/plain": [
       "VALID Epoch 18:   0%|          | 0/28 [00:00<?, ?it/s]"
      ]
     },
     "metadata": {},
     "output_type": "display_data"
    },
    {
     "name": "stdout",
     "output_type": "stream",
     "text": [
      "[Epoch 19/50] [Train Loss: 2.6061] [Valid Loss: 2.6208]\n"
     ]
    },
    {
     "data": {
      "application/vnd.jupyter.widget-view+json": {
       "model_id": "b1be9c1f307943329ea381b3fb03e901",
       "version_major": 2,
       "version_minor": 0
      },
      "text/plain": [
       "TRAIN Epoch 19:   0%|          | 0/84 [00:00<?, ?it/s]"
      ]
     },
     "metadata": {},
     "output_type": "display_data"
    },
    {
     "data": {
      "application/vnd.jupyter.widget-view+json": {
       "model_id": "4d5e9f30926a4e46b76a952d46f56cfd",
       "version_major": 2,
       "version_minor": 0
      },
      "text/plain": [
       "VALID Epoch 19:   0%|          | 0/28 [00:00<?, ?it/s]"
      ]
     },
     "metadata": {},
     "output_type": "display_data"
    },
    {
     "name": "stdout",
     "output_type": "stream",
     "text": [
      "[Epoch 20/50] [Train Loss: 2.6029] [Valid Loss: 2.6229]\n"
     ]
    },
    {
     "data": {
      "application/vnd.jupyter.widget-view+json": {
       "model_id": "78c18253bf36408bb6abb03352e83e0d",
       "version_major": 2,
       "version_minor": 0
      },
      "text/plain": [
       "TRAIN Epoch 20:   0%|          | 0/84 [00:00<?, ?it/s]"
      ]
     },
     "metadata": {},
     "output_type": "display_data"
    },
    {
     "data": {
      "application/vnd.jupyter.widget-view+json": {
       "model_id": "c38b6542ebfd41cca6ac399704c005aa",
       "version_major": 2,
       "version_minor": 0
      },
      "text/plain": [
       "VALID Epoch 20:   0%|          | 0/28 [00:00<?, ?it/s]"
      ]
     },
     "metadata": {},
     "output_type": "display_data"
    },
    {
     "name": "stdout",
     "output_type": "stream",
     "text": [
      "[Epoch 21/50] [Train Loss: 2.6024] [Valid Loss: 2.6264]\n",
      "Epoch    21: reducing learning rate of group 0 to 2.0000e-04.\n"
     ]
    },
    {
     "data": {
      "application/vnd.jupyter.widget-view+json": {
       "model_id": "f4c5b44309224e1296d7e5d464e91674",
       "version_major": 2,
       "version_minor": 0
      },
      "text/plain": [
       "TRAIN Epoch 21:   0%|          | 0/84 [00:00<?, ?it/s]"
      ]
     },
     "metadata": {},
     "output_type": "display_data"
    },
    {
     "data": {
      "application/vnd.jupyter.widget-view+json": {
       "model_id": "c855bd6921f74cbca66edabc16f80611",
       "version_major": 2,
       "version_minor": 0
      },
      "text/plain": [
       "VALID Epoch 21:   0%|          | 0/28 [00:00<?, ?it/s]"
      ]
     },
     "metadata": {},
     "output_type": "display_data"
    },
    {
     "name": "stdout",
     "output_type": "stream",
     "text": [
      "[Epoch 22/50] [Train Loss: 2.5954] [Valid Loss: 2.6151]\n"
     ]
    },
    {
     "data": {
      "application/vnd.jupyter.widget-view+json": {
       "model_id": "6ea07db4374344c8b0f4bbf361d1fee2",
       "version_major": 2,
       "version_minor": 0
      },
      "text/plain": [
       "TRAIN Epoch 22:   0%|          | 0/84 [00:00<?, ?it/s]"
      ]
     },
     "metadata": {},
     "output_type": "display_data"
    },
    {
     "data": {
      "application/vnd.jupyter.widget-view+json": {
       "model_id": "3171d3a461ac492280c1f794f189f428",
       "version_major": 2,
       "version_minor": 0
      },
      "text/plain": [
       "VALID Epoch 22:   0%|          | 0/28 [00:00<?, ?it/s]"
      ]
     },
     "metadata": {},
     "output_type": "display_data"
    },
    {
     "name": "stdout",
     "output_type": "stream",
     "text": [
      "[Epoch 23/50] [Train Loss: 2.5924] [Valid Loss: 2.6173]\n"
     ]
    },
    {
     "data": {
      "application/vnd.jupyter.widget-view+json": {
       "model_id": "aa681cf3938647dab88d4d936df8cbec",
       "version_major": 2,
       "version_minor": 0
      },
      "text/plain": [
       "TRAIN Epoch 23:   0%|          | 0/84 [00:00<?, ?it/s]"
      ]
     },
     "metadata": {},
     "output_type": "display_data"
    },
    {
     "data": {
      "application/vnd.jupyter.widget-view+json": {
       "model_id": "99ff3a6a2e6d4a17b8210acb87377c62",
       "version_major": 2,
       "version_minor": 0
      },
      "text/plain": [
       "VALID Epoch 23:   0%|          | 0/28 [00:00<?, ?it/s]"
      ]
     },
     "metadata": {},
     "output_type": "display_data"
    },
    {
     "name": "stdout",
     "output_type": "stream",
     "text": [
      "[Epoch 24/50] [Train Loss: 2.5911] [Valid Loss: 2.6126]\n"
     ]
    },
    {
     "data": {
      "application/vnd.jupyter.widget-view+json": {
       "model_id": "8606f5c4d3b9459dbd0f40c7d97d74dd",
       "version_major": 2,
       "version_minor": 0
      },
      "text/plain": [
       "TRAIN Epoch 24:   0%|          | 0/84 [00:00<?, ?it/s]"
      ]
     },
     "metadata": {},
     "output_type": "display_data"
    },
    {
     "data": {
      "application/vnd.jupyter.widget-view+json": {
       "model_id": "33a368433c384401b221b95e14808e46",
       "version_major": 2,
       "version_minor": 0
      },
      "text/plain": [
       "VALID Epoch 24:   0%|          | 0/28 [00:00<?, ?it/s]"
      ]
     },
     "metadata": {},
     "output_type": "display_data"
    },
    {
     "name": "stdout",
     "output_type": "stream",
     "text": [
      "[Epoch 25/50] [Train Loss: 2.5906] [Valid Loss: 2.6066]\n"
     ]
    },
    {
     "data": {
      "application/vnd.jupyter.widget-view+json": {
       "model_id": "de222166e3fd4c48940644fe888a2d0e",
       "version_major": 2,
       "version_minor": 0
      },
      "text/plain": [
       "TRAIN Epoch 25:   0%|          | 0/84 [00:00<?, ?it/s]"
      ]
     },
     "metadata": {},
     "output_type": "display_data"
    },
    {
     "data": {
      "application/vnd.jupyter.widget-view+json": {
       "model_id": "60401325be0e46a39273032319c90996",
       "version_major": 2,
       "version_minor": 0
      },
      "text/plain": [
       "VALID Epoch 25:   0%|          | 0/28 [00:00<?, ?it/s]"
      ]
     },
     "metadata": {},
     "output_type": "display_data"
    },
    {
     "name": "stdout",
     "output_type": "stream",
     "text": [
      "[Epoch 26/50] [Train Loss: 2.5902] [Valid Loss: 2.6094]\n"
     ]
    },
    {
     "data": {
      "application/vnd.jupyter.widget-view+json": {
       "model_id": "9e2f0abe5e084040bc85a08b85328347",
       "version_major": 2,
       "version_minor": 0
      },
      "text/plain": [
       "TRAIN Epoch 26:   0%|          | 0/84 [00:00<?, ?it/s]"
      ]
     },
     "metadata": {},
     "output_type": "display_data"
    },
    {
     "data": {
      "application/vnd.jupyter.widget-view+json": {
       "model_id": "d767a535797b4b51a8bafeb888285f3a",
       "version_major": 2,
       "version_minor": 0
      },
      "text/plain": [
       "VALID Epoch 26:   0%|          | 0/28 [00:00<?, ?it/s]"
      ]
     },
     "metadata": {},
     "output_type": "display_data"
    },
    {
     "name": "stdout",
     "output_type": "stream",
     "text": [
      "[Epoch 27/50] [Train Loss: 2.5900] [Valid Loss: 2.6148]\n"
     ]
    },
    {
     "data": {
      "application/vnd.jupyter.widget-view+json": {
       "model_id": "86ea4187eef344bd9ddcec54561b9065",
       "version_major": 2,
       "version_minor": 0
      },
      "text/plain": [
       "TRAIN Epoch 27:   0%|          | 0/84 [00:00<?, ?it/s]"
      ]
     },
     "metadata": {},
     "output_type": "display_data"
    },
    {
     "data": {
      "application/vnd.jupyter.widget-view+json": {
       "model_id": "3ddbd1a82020400e847a6edc33324963",
       "version_major": 2,
       "version_minor": 0
      },
      "text/plain": [
       "VALID Epoch 27:   0%|          | 0/28 [00:00<?, ?it/s]"
      ]
     },
     "metadata": {},
     "output_type": "display_data"
    },
    {
     "name": "stdout",
     "output_type": "stream",
     "text": [
      "[Epoch 28/50] [Train Loss: 2.5892] [Valid Loss: 2.6163]\n"
     ]
    },
    {
     "data": {
      "application/vnd.jupyter.widget-view+json": {
       "model_id": "92d37ce01fc24881a0e6c2373d6fa7db",
       "version_major": 2,
       "version_minor": 0
      },
      "text/plain": [
       "TRAIN Epoch 28:   0%|          | 0/84 [00:00<?, ?it/s]"
      ]
     },
     "metadata": {},
     "output_type": "display_data"
    },
    {
     "data": {
      "application/vnd.jupyter.widget-view+json": {
       "model_id": "25fa546783fc44d083938788f8c95a49",
       "version_major": 2,
       "version_minor": 0
      },
      "text/plain": [
       "VALID Epoch 28:   0%|          | 0/28 [00:00<?, ?it/s]"
      ]
     },
     "metadata": {},
     "output_type": "display_data"
    },
    {
     "name": "stdout",
     "output_type": "stream",
     "text": [
      "[Epoch 29/50] [Train Loss: 2.5862] [Valid Loss: 2.6100]\n"
     ]
    },
    {
     "data": {
      "application/vnd.jupyter.widget-view+json": {
       "model_id": "d97c349f306e40e6862bdaee296dd88b",
       "version_major": 2,
       "version_minor": 0
      },
      "text/plain": [
       "TRAIN Epoch 29:   0%|          | 0/84 [00:00<?, ?it/s]"
      ]
     },
     "metadata": {},
     "output_type": "display_data"
    },
    {
     "data": {
      "application/vnd.jupyter.widget-view+json": {
       "model_id": "17ef6b2c3f2b4dbcad6a4b2769f0c4c7",
       "version_major": 2,
       "version_minor": 0
      },
      "text/plain": [
       "VALID Epoch 29:   0%|          | 0/28 [00:00<?, ?it/s]"
      ]
     },
     "metadata": {},
     "output_type": "display_data"
    },
    {
     "name": "stdout",
     "output_type": "stream",
     "text": [
      "[Epoch 30/50] [Train Loss: 2.5897] [Valid Loss: 2.6168]\n"
     ]
    },
    {
     "data": {
      "application/vnd.jupyter.widget-view+json": {
       "model_id": "ba007a10696d44fda27daa0ab0c580fd",
       "version_major": 2,
       "version_minor": 0
      },
      "text/plain": [
       "TRAIN Epoch 30:   0%|          | 0/84 [00:00<?, ?it/s]"
      ]
     },
     "metadata": {},
     "output_type": "display_data"
    },
    {
     "data": {
      "application/vnd.jupyter.widget-view+json": {
       "model_id": "cee0f16b3df14648bf8d0d76e86bc0ff",
       "version_major": 2,
       "version_minor": 0
      },
      "text/plain": [
       "VALID Epoch 30:   0%|          | 0/28 [00:00<?, ?it/s]"
      ]
     },
     "metadata": {},
     "output_type": "display_data"
    },
    {
     "name": "stdout",
     "output_type": "stream",
     "text": [
      "[Epoch 31/50] [Train Loss: 2.5881] [Valid Loss: 2.6073]\n",
      "Epoch    31: reducing learning rate of group 0 to 4.0000e-05.\n"
     ]
    },
    {
     "data": {
      "application/vnd.jupyter.widget-view+json": {
       "model_id": "40869080fee142cba60ddeb4521c05ac",
       "version_major": 2,
       "version_minor": 0
      },
      "text/plain": [
       "TRAIN Epoch 31:   0%|          | 0/84 [00:00<?, ?it/s]"
      ]
     },
     "metadata": {},
     "output_type": "display_data"
    },
    {
     "data": {
      "application/vnd.jupyter.widget-view+json": {
       "model_id": "c3daaf6a86c0405385274c9ca0fd9d5c",
       "version_major": 2,
       "version_minor": 0
      },
      "text/plain": [
       "VALID Epoch 31:   0%|          | 0/28 [00:00<?, ?it/s]"
      ]
     },
     "metadata": {},
     "output_type": "display_data"
    },
    {
     "name": "stdout",
     "output_type": "stream",
     "text": [
      "[Epoch 32/50] [Train Loss: 2.5822] [Valid Loss: 2.6097]\n"
     ]
    },
    {
     "data": {
      "application/vnd.jupyter.widget-view+json": {
       "model_id": "0a1326724fc04839a0a129e3c12ded7c",
       "version_major": 2,
       "version_minor": 0
      },
      "text/plain": [
       "TRAIN Epoch 32:   0%|          | 0/84 [00:00<?, ?it/s]"
      ]
     },
     "metadata": {},
     "output_type": "display_data"
    },
    {
     "data": {
      "application/vnd.jupyter.widget-view+json": {
       "model_id": "000c4ff5faaa4f0eb9e0bacb43eff49c",
       "version_major": 2,
       "version_minor": 0
      },
      "text/plain": [
       "VALID Epoch 32:   0%|          | 0/28 [00:00<?, ?it/s]"
      ]
     },
     "metadata": {},
     "output_type": "display_data"
    },
    {
     "name": "stdout",
     "output_type": "stream",
     "text": [
      "[Epoch 33/50] [Train Loss: 2.5820] [Valid Loss: 2.6091]\n"
     ]
    },
    {
     "data": {
      "application/vnd.jupyter.widget-view+json": {
       "model_id": "6fd80ee48b0f403bbbad702b5a5d54e6",
       "version_major": 2,
       "version_minor": 0
      },
      "text/plain": [
       "TRAIN Epoch 33:   0%|          | 0/84 [00:00<?, ?it/s]"
      ]
     },
     "metadata": {},
     "output_type": "display_data"
    },
    {
     "data": {
      "application/vnd.jupyter.widget-view+json": {
       "model_id": "cb3161bef39549148d24a50c7f8c4570",
       "version_major": 2,
       "version_minor": 0
      },
      "text/plain": [
       "VALID Epoch 33:   0%|          | 0/28 [00:00<?, ?it/s]"
      ]
     },
     "metadata": {},
     "output_type": "display_data"
    },
    {
     "name": "stdout",
     "output_type": "stream",
     "text": [
      "[Epoch 34/50] [Train Loss: 2.5869] [Valid Loss: 2.6147]\n"
     ]
    },
    {
     "data": {
      "application/vnd.jupyter.widget-view+json": {
       "model_id": "007503a655874fc9bb94c79d46ce8eec",
       "version_major": 2,
       "version_minor": 0
      },
      "text/plain": [
       "TRAIN Epoch 34:   0%|          | 0/84 [00:00<?, ?it/s]"
      ]
     },
     "metadata": {},
     "output_type": "display_data"
    },
    {
     "data": {
      "application/vnd.jupyter.widget-view+json": {
       "model_id": "93876307044c40228debe1cfdbbc47d7",
       "version_major": 2,
       "version_minor": 0
      },
      "text/plain": [
       "VALID Epoch 34:   0%|          | 0/28 [00:00<?, ?it/s]"
      ]
     },
     "metadata": {},
     "output_type": "display_data"
    },
    {
     "name": "stdout",
     "output_type": "stream",
     "text": [
      "[Epoch 35/50] [Train Loss: 2.5832] [Valid Loss: 2.6092]\n"
     ]
    },
    {
     "data": {
      "application/vnd.jupyter.widget-view+json": {
       "model_id": "df70b785e6fd47ceb290ce5ac76c66f0",
       "version_major": 2,
       "version_minor": 0
      },
      "text/plain": [
       "TRAIN Epoch 35:   0%|          | 0/84 [00:00<?, ?it/s]"
      ]
     },
     "metadata": {},
     "output_type": "display_data"
    },
    {
     "data": {
      "application/vnd.jupyter.widget-view+json": {
       "model_id": "1935e50514fd4a918ce0e71f7832235a",
       "version_major": 2,
       "version_minor": 0
      },
      "text/plain": [
       "VALID Epoch 35:   0%|          | 0/28 [00:00<?, ?it/s]"
      ]
     },
     "metadata": {},
     "output_type": "display_data"
    },
    {
     "name": "stdout",
     "output_type": "stream",
     "text": [
      "[Epoch 36/50] [Train Loss: 2.5840] [Valid Loss: 2.6128]\n"
     ]
    },
    {
     "data": {
      "application/vnd.jupyter.widget-view+json": {
       "model_id": "5730842ee1c24ca9bb9ca50c03f156e7",
       "version_major": 2,
       "version_minor": 0
      },
      "text/plain": [
       "TRAIN Epoch 36:   0%|          | 0/84 [00:00<?, ?it/s]"
      ]
     },
     "metadata": {},
     "output_type": "display_data"
    },
    {
     "data": {
      "application/vnd.jupyter.widget-view+json": {
       "model_id": "fc932f65a16d49e98096115466854171",
       "version_major": 2,
       "version_minor": 0
      },
      "text/plain": [
       "VALID Epoch 36:   0%|          | 0/28 [00:00<?, ?it/s]"
      ]
     },
     "metadata": {},
     "output_type": "display_data"
    },
    {
     "name": "stdout",
     "output_type": "stream",
     "text": [
      "[Epoch 37/50] [Train Loss: 2.5831] [Valid Loss: 2.6133]\n",
      "Epoch    37: reducing learning rate of group 0 to 8.0000e-06.\n"
     ]
    }
   ],
   "source": [
    "for epoch in range(NUM_EPOCHS):\n",
    "  train_loss = runner.run(loader_train, epoch, 'TRAIN')\n",
    "  valid_loss = runner.run(loader_valid, epoch, 'VALID')\n",
    "  print(\"[Epoch %d/%d] [Train Loss: %.4f] [Valid Loss: %.4f]\" %\n",
    "        (epoch + 1, NUM_EPOCHS, train_loss, valid_loss))\n",
    "  if runner.early_stop(valid_loss, epoch + 1):\n",
    "    break"
   ]
  },
  {
   "cell_type": "code",
   "execution_count": 12,
   "metadata": {},
   "outputs": [
    {
     "data": {
      "application/vnd.jupyter.widget-view+json": {
       "model_id": "2754440b2ab74a4b85dbce43312e1b39",
       "version_major": 2,
       "version_minor": 0
      },
      "text/plain": [
       "TEST:   0%|          | 0/28 [00:00<?, ?it/s]"
      ]
     },
     "metadata": {},
     "output_type": "display_data"
    },
    {
     "name": "stdout",
     "output_type": "stream",
     "text": [
      "auc=20.98%\n"
     ]
    }
   ],
   "source": [
    "aucs = runner.test(loader_test)\n",
    "print(f'auc={aucs:.2f}%')"
   ]
  },
  {
   "cell_type": "markdown",
   "metadata": {},
   "source": [
    "# Train pre-trained model"
   ]
  },
  {
   "cell_type": "code",
   "execution_count": 15,
   "metadata": {},
   "outputs": [],
   "source": [
    "class CNN_Classifier(nn.Module):\n",
    "  def __init__(self, n_class=16):\n",
    "    super(CNN_Classifier, self).__init__()\n",
    "    self.pretrained_model = torchvision.models.resnet101(pretrained=True)\n",
    "    self.linear = nn.Linear(1000, n_class)\n",
    "\n",
    "  def forward(self, x):\n",
    "    x = self.pretrained_model(x)\n",
    "    x = x.view(x.size(0), -1)\n",
    "    x = self.linear(x)\n",
    "    out = nn.Softmax()(x)\n",
    "    return out"
   ]
  },
  {
   "cell_type": "code",
   "execution_count": 16,
   "metadata": {},
   "outputs": [],
   "source": [
    "# Training setup.\n",
    "LR = 1e-3  # learning rate\n",
    "SR = 1e-5  # stopping rate\n",
    "NUM_EPOCHS = 30\n",
    "WEIGHT_DECAY = 1e-5  # L2 regularization weight\n",
    "\n",
    "model = CNN_Classifier()\n",
    "runner = Runner(model=model, lr = LR, weight_decay = WEIGHT_DECAY, sr = SR, tags=TAGS)"
   ]
  },
  {
   "cell_type": "code",
   "execution_count": 17,
   "metadata": {},
   "outputs": [
    {
     "data": {
      "application/vnd.jupyter.widget-view+json": {
       "model_id": "3701fcfb5f1e44e7818e9224b8e14ef2",
       "version_major": 2,
       "version_minor": 0
      },
      "text/plain": [
       "TRAIN Epoch 00:   0%|          | 0/84 [00:00<?, ?it/s]"
      ]
     },
     "metadata": {},
     "output_type": "display_data"
    },
    {
     "data": {
      "application/vnd.jupyter.widget-view+json": {
       "model_id": "d9b517cd13c64d4f8852779ac41c3be4",
       "version_major": 2,
       "version_minor": 0
      },
      "text/plain": [
       "VALID Epoch 00:   0%|          | 0/28 [00:00<?, ?it/s]"
      ]
     },
     "metadata": {},
     "output_type": "display_data"
    },
    {
     "name": "stdout",
     "output_type": "stream",
     "text": [
      "[Epoch 1/30] [Train Loss: 2.7254] [Valid Loss: 2.6633]\n"
     ]
    },
    {
     "data": {
      "application/vnd.jupyter.widget-view+json": {
       "model_id": "4a56096a92be49b0b4c99ea76a76a811",
       "version_major": 2,
       "version_minor": 0
      },
      "text/plain": [
       "TRAIN Epoch 01:   0%|          | 0/84 [00:00<?, ?it/s]"
      ]
     },
     "metadata": {},
     "output_type": "display_data"
    },
    {
     "data": {
      "application/vnd.jupyter.widget-view+json": {
       "model_id": "41b91ba7fd2b4a9d900c685b4a0b405f",
       "version_major": 2,
       "version_minor": 0
      },
      "text/plain": [
       "VALID Epoch 01:   0%|          | 0/28 [00:00<?, ?it/s]"
      ]
     },
     "metadata": {},
     "output_type": "display_data"
    },
    {
     "name": "stdout",
     "output_type": "stream",
     "text": [
      "[Epoch 2/30] [Train Loss: 2.7240] [Valid Loss: 2.6655]\n"
     ]
    },
    {
     "data": {
      "application/vnd.jupyter.widget-view+json": {
       "model_id": "10ec5a0696bb402480dbc3045b24585a",
       "version_major": 2,
       "version_minor": 0
      },
      "text/plain": [
       "TRAIN Epoch 02:   0%|          | 0/84 [00:00<?, ?it/s]"
      ]
     },
     "metadata": {},
     "output_type": "display_data"
    },
    {
     "data": {
      "application/vnd.jupyter.widget-view+json": {
       "model_id": "1d4eb0b9b0404d2fbcc18dad0b9ca2c2",
       "version_major": 2,
       "version_minor": 0
      },
      "text/plain": [
       "VALID Epoch 02:   0%|          | 0/28 [00:00<?, ?it/s]"
      ]
     },
     "metadata": {},
     "output_type": "display_data"
    },
    {
     "name": "stdout",
     "output_type": "stream",
     "text": [
      "[Epoch 3/30] [Train Loss: 2.7247] [Valid Loss: 2.6633]\n"
     ]
    },
    {
     "data": {
      "application/vnd.jupyter.widget-view+json": {
       "model_id": "2ffd259830a540a4857101968fda2c26",
       "version_major": 2,
       "version_minor": 0
      },
      "text/plain": [
       "TRAIN Epoch 03:   0%|          | 0/84 [00:00<?, ?it/s]"
      ]
     },
     "metadata": {},
     "output_type": "display_data"
    },
    {
     "data": {
      "application/vnd.jupyter.widget-view+json": {
       "model_id": "ec141c0500654204ab3141f003028dea",
       "version_major": 2,
       "version_minor": 0
      },
      "text/plain": [
       "VALID Epoch 03:   0%|          | 0/28 [00:00<?, ?it/s]"
      ]
     },
     "metadata": {},
     "output_type": "display_data"
    },
    {
     "name": "stdout",
     "output_type": "stream",
     "text": [
      "[Epoch 4/30] [Train Loss: 2.7240] [Valid Loss: 2.6633]\n"
     ]
    },
    {
     "data": {
      "application/vnd.jupyter.widget-view+json": {
       "model_id": "9ed63852a1c14194b90efba0b7de33e3",
       "version_major": 2,
       "version_minor": 0
      },
      "text/plain": [
       "TRAIN Epoch 04:   0%|          | 0/84 [00:00<?, ?it/s]"
      ]
     },
     "metadata": {},
     "output_type": "display_data"
    },
    {
     "data": {
      "application/vnd.jupyter.widget-view+json": {
       "model_id": "ec70faed6e5b494e8f29b769c25483d5",
       "version_major": 2,
       "version_minor": 0
      },
      "text/plain": [
       "VALID Epoch 04:   0%|          | 0/28 [00:00<?, ?it/s]"
      ]
     },
     "metadata": {},
     "output_type": "display_data"
    },
    {
     "name": "stdout",
     "output_type": "stream",
     "text": [
      "[Epoch 5/30] [Train Loss: 2.7240] [Valid Loss: 2.6655]\n"
     ]
    },
    {
     "data": {
      "application/vnd.jupyter.widget-view+json": {
       "model_id": "7884105b09d54a70b24a915f5a0fabff",
       "version_major": 2,
       "version_minor": 0
      },
      "text/plain": [
       "TRAIN Epoch 05:   0%|          | 0/84 [00:00<?, ?it/s]"
      ]
     },
     "metadata": {},
     "output_type": "display_data"
    },
    {
     "data": {
      "application/vnd.jupyter.widget-view+json": {
       "model_id": "4b2f3c9b476f4b00a3be7ca1fa36021f",
       "version_major": 2,
       "version_minor": 0
      },
      "text/plain": [
       "VALID Epoch 05:   0%|          | 0/28 [00:00<?, ?it/s]"
      ]
     },
     "metadata": {},
     "output_type": "display_data"
    },
    {
     "name": "stdout",
     "output_type": "stream",
     "text": [
      "[Epoch 6/30] [Train Loss: 2.7240] [Valid Loss: 2.6633]\n"
     ]
    },
    {
     "data": {
      "application/vnd.jupyter.widget-view+json": {
       "model_id": "ca0b578d063c4391af703b06fd034b72",
       "version_major": 2,
       "version_minor": 0
      },
      "text/plain": [
       "TRAIN Epoch 06:   0%|          | 0/84 [00:00<?, ?it/s]"
      ]
     },
     "metadata": {},
     "output_type": "display_data"
    },
    {
     "data": {
      "application/vnd.jupyter.widget-view+json": {
       "model_id": "6989227a82ad4d6180d1b31066aa20d6",
       "version_major": 2,
       "version_minor": 0
      },
      "text/plain": [
       "VALID Epoch 06:   0%|          | 0/28 [00:00<?, ?it/s]"
      ]
     },
     "metadata": {},
     "output_type": "display_data"
    },
    {
     "name": "stdout",
     "output_type": "stream",
     "text": [
      "[Epoch 7/30] [Train Loss: 2.7240] [Valid Loss: 2.6655]\n",
      "Epoch     7: reducing learning rate of group 0 to 2.0000e-04.\n"
     ]
    },
    {
     "data": {
      "application/vnd.jupyter.widget-view+json": {
       "model_id": "8aae549fedbf4feba352f24abd3e7c56",
       "version_major": 2,
       "version_minor": 0
      },
      "text/plain": [
       "TRAIN Epoch 07:   0%|          | 0/84 [00:00<?, ?it/s]"
      ]
     },
     "metadata": {},
     "output_type": "display_data"
    },
    {
     "data": {
      "application/vnd.jupyter.widget-view+json": {
       "model_id": "479a6323cdc54f9e87ca2560e2300450",
       "version_major": 2,
       "version_minor": 0
      },
      "text/plain": [
       "VALID Epoch 07:   0%|          | 0/28 [00:00<?, ?it/s]"
      ]
     },
     "metadata": {},
     "output_type": "display_data"
    },
    {
     "name": "stdout",
     "output_type": "stream",
     "text": [
      "[Epoch 8/30] [Train Loss: 2.7247] [Valid Loss: 2.6633]\n"
     ]
    },
    {
     "data": {
      "application/vnd.jupyter.widget-view+json": {
       "model_id": "7ed3b6ebf4d84d5196b2ab6efc4a9ef6",
       "version_major": 2,
       "version_minor": 0
      },
      "text/plain": [
       "TRAIN Epoch 08:   0%|          | 0/84 [00:00<?, ?it/s]"
      ]
     },
     "metadata": {},
     "output_type": "display_data"
    },
    {
     "data": {
      "application/vnd.jupyter.widget-view+json": {
       "model_id": "235958a572874299a44b7282f6988b8a",
       "version_major": 2,
       "version_minor": 0
      },
      "text/plain": [
       "VALID Epoch 08:   0%|          | 0/28 [00:00<?, ?it/s]"
      ]
     },
     "metadata": {},
     "output_type": "display_data"
    },
    {
     "name": "stdout",
     "output_type": "stream",
     "text": [
      "[Epoch 9/30] [Train Loss: 2.7247] [Valid Loss: 2.6633]\n"
     ]
    },
    {
     "data": {
      "application/vnd.jupyter.widget-view+json": {
       "model_id": "5337603f15c04043bc413b3690ae7737",
       "version_major": 2,
       "version_minor": 0
      },
      "text/plain": [
       "TRAIN Epoch 09:   0%|          | 0/84 [00:00<?, ?it/s]"
      ]
     },
     "metadata": {},
     "output_type": "display_data"
    },
    {
     "data": {
      "application/vnd.jupyter.widget-view+json": {
       "model_id": "d5e8c667881343ad9cb4fa644b36a5b4",
       "version_major": 2,
       "version_minor": 0
      },
      "text/plain": [
       "VALID Epoch 09:   0%|          | 0/28 [00:00<?, ?it/s]"
      ]
     },
     "metadata": {},
     "output_type": "display_data"
    },
    {
     "name": "stdout",
     "output_type": "stream",
     "text": [
      "[Epoch 10/30] [Train Loss: 2.7240] [Valid Loss: 2.6633]\n"
     ]
    },
    {
     "data": {
      "application/vnd.jupyter.widget-view+json": {
       "model_id": "f67f0ab9c554439582a218963fb7d35b",
       "version_major": 2,
       "version_minor": 0
      },
      "text/plain": [
       "TRAIN Epoch 10:   0%|          | 0/84 [00:00<?, ?it/s]"
      ]
     },
     "metadata": {},
     "output_type": "display_data"
    },
    {
     "data": {
      "application/vnd.jupyter.widget-view+json": {
       "model_id": "f7d3334f6e5c42fdbd9e068859213453",
       "version_major": 2,
       "version_minor": 0
      },
      "text/plain": [
       "VALID Epoch 10:   0%|          | 0/28 [00:00<?, ?it/s]"
      ]
     },
     "metadata": {},
     "output_type": "display_data"
    },
    {
     "name": "stdout",
     "output_type": "stream",
     "text": [
      "[Epoch 11/30] [Train Loss: 2.7240] [Valid Loss: 2.6633]\n"
     ]
    },
    {
     "data": {
      "application/vnd.jupyter.widget-view+json": {
       "model_id": "8f7f15ae9c1840f7a43046d200ac6c28",
       "version_major": 2,
       "version_minor": 0
      },
      "text/plain": [
       "TRAIN Epoch 11:   0%|          | 0/84 [00:00<?, ?it/s]"
      ]
     },
     "metadata": {},
     "output_type": "display_data"
    },
    {
     "data": {
      "application/vnd.jupyter.widget-view+json": {
       "model_id": "815eb2c4251240a097dabdbdaf3992ed",
       "version_major": 2,
       "version_minor": 0
      },
      "text/plain": [
       "VALID Epoch 11:   0%|          | 0/28 [00:00<?, ?it/s]"
      ]
     },
     "metadata": {},
     "output_type": "display_data"
    },
    {
     "name": "stdout",
     "output_type": "stream",
     "text": [
      "[Epoch 12/30] [Train Loss: 2.7240] [Valid Loss: 2.6655]\n"
     ]
    },
    {
     "data": {
      "application/vnd.jupyter.widget-view+json": {
       "model_id": "633b86e7b11a49c5b1d89c64fe97fed7",
       "version_major": 2,
       "version_minor": 0
      },
      "text/plain": [
       "TRAIN Epoch 12:   0%|          | 0/84 [00:00<?, ?it/s]"
      ]
     },
     "metadata": {},
     "output_type": "display_data"
    },
    {
     "data": {
      "application/vnd.jupyter.widget-view+json": {
       "model_id": "1085ac205cfc45c190b4679b25b5ea99",
       "version_major": 2,
       "version_minor": 0
      },
      "text/plain": [
       "VALID Epoch 12:   0%|          | 0/28 [00:00<?, ?it/s]"
      ]
     },
     "metadata": {},
     "output_type": "display_data"
    },
    {
     "name": "stdout",
     "output_type": "stream",
     "text": [
      "[Epoch 13/30] [Train Loss: 2.7240] [Valid Loss: 2.6655]\n",
      "Epoch    13: reducing learning rate of group 0 to 4.0000e-05.\n"
     ]
    },
    {
     "data": {
      "application/vnd.jupyter.widget-view+json": {
       "model_id": "f318fe54e1314e30a00d25355dc82d23",
       "version_major": 2,
       "version_minor": 0
      },
      "text/plain": [
       "TRAIN Epoch 13:   0%|          | 0/84 [00:00<?, ?it/s]"
      ]
     },
     "metadata": {},
     "output_type": "display_data"
    },
    {
     "data": {
      "application/vnd.jupyter.widget-view+json": {
       "model_id": "31bf20956b5d4bd49b44ca5add0a9c20",
       "version_major": 2,
       "version_minor": 0
      },
      "text/plain": [
       "VALID Epoch 13:   0%|          | 0/28 [00:00<?, ?it/s]"
      ]
     },
     "metadata": {},
     "output_type": "display_data"
    },
    {
     "name": "stdout",
     "output_type": "stream",
     "text": [
      "[Epoch 14/30] [Train Loss: 2.7247] [Valid Loss: 2.6633]\n"
     ]
    },
    {
     "data": {
      "application/vnd.jupyter.widget-view+json": {
       "model_id": "bb9bf50266bb440197cd480a8d6aa516",
       "version_major": 2,
       "version_minor": 0
      },
      "text/plain": [
       "TRAIN Epoch 14:   0%|          | 0/84 [00:00<?, ?it/s]"
      ]
     },
     "metadata": {},
     "output_type": "display_data"
    },
    {
     "data": {
      "application/vnd.jupyter.widget-view+json": {
       "model_id": "02a6ff80de7748909c3d01f32f33b448",
       "version_major": 2,
       "version_minor": 0
      },
      "text/plain": [
       "VALID Epoch 14:   0%|          | 0/28 [00:00<?, ?it/s]"
      ]
     },
     "metadata": {},
     "output_type": "display_data"
    },
    {
     "name": "stdout",
     "output_type": "stream",
     "text": [
      "[Epoch 15/30] [Train Loss: 2.7240] [Valid Loss: 2.6633]\n"
     ]
    },
    {
     "data": {
      "application/vnd.jupyter.widget-view+json": {
       "model_id": "b602a9fe7b304adb87c7b6a68bd28da0",
       "version_major": 2,
       "version_minor": 0
      },
      "text/plain": [
       "TRAIN Epoch 15:   0%|          | 0/84 [00:00<?, ?it/s]"
      ]
     },
     "metadata": {},
     "output_type": "display_data"
    },
    {
     "data": {
      "application/vnd.jupyter.widget-view+json": {
       "model_id": "ac08e9f924c8411a95db01798aa7ad56",
       "version_major": 2,
       "version_minor": 0
      },
      "text/plain": [
       "VALID Epoch 15:   0%|          | 0/28 [00:00<?, ?it/s]"
      ]
     },
     "metadata": {},
     "output_type": "display_data"
    },
    {
     "name": "stdout",
     "output_type": "stream",
     "text": [
      "[Epoch 16/30] [Train Loss: 2.7240] [Valid Loss: 2.6633]\n"
     ]
    },
    {
     "data": {
      "application/vnd.jupyter.widget-view+json": {
       "model_id": "f633782cfc1b4bd297b921938433d28a",
       "version_major": 2,
       "version_minor": 0
      },
      "text/plain": [
       "TRAIN Epoch 16:   0%|          | 0/84 [00:00<?, ?it/s]"
      ]
     },
     "metadata": {},
     "output_type": "display_data"
    },
    {
     "data": {
      "application/vnd.jupyter.widget-view+json": {
       "model_id": "a543638a8fc3427681250b6f1f5063d6",
       "version_major": 2,
       "version_minor": 0
      },
      "text/plain": [
       "VALID Epoch 16:   0%|          | 0/28 [00:00<?, ?it/s]"
      ]
     },
     "metadata": {},
     "output_type": "display_data"
    },
    {
     "name": "stdout",
     "output_type": "stream",
     "text": [
      "[Epoch 17/30] [Train Loss: 2.7240] [Valid Loss: 2.6633]\n"
     ]
    },
    {
     "data": {
      "application/vnd.jupyter.widget-view+json": {
       "model_id": "ada8352f3de04cd3a7c570393381dcff",
       "version_major": 2,
       "version_minor": 0
      },
      "text/plain": [
       "TRAIN Epoch 17:   0%|          | 0/84 [00:00<?, ?it/s]"
      ]
     },
     "metadata": {},
     "output_type": "display_data"
    },
    {
     "data": {
      "application/vnd.jupyter.widget-view+json": {
       "model_id": "56fc0ad2e2b842189a0c17f650b8c324",
       "version_major": 2,
       "version_minor": 0
      },
      "text/plain": [
       "VALID Epoch 17:   0%|          | 0/28 [00:00<?, ?it/s]"
      ]
     },
     "metadata": {},
     "output_type": "display_data"
    },
    {
     "name": "stdout",
     "output_type": "stream",
     "text": [
      "[Epoch 18/30] [Train Loss: 2.7240] [Valid Loss: 2.6655]\n"
     ]
    },
    {
     "data": {
      "application/vnd.jupyter.widget-view+json": {
       "model_id": "c34bfdc268ef465799826c842b7c2ae1",
       "version_major": 2,
       "version_minor": 0
      },
      "text/plain": [
       "TRAIN Epoch 18:   0%|          | 0/84 [00:00<?, ?it/s]"
      ]
     },
     "metadata": {},
     "output_type": "display_data"
    },
    {
     "data": {
      "application/vnd.jupyter.widget-view+json": {
       "model_id": "cd212af5a7164293a63a024e0ca7659a",
       "version_major": 2,
       "version_minor": 0
      },
      "text/plain": [
       "VALID Epoch 18:   0%|          | 0/28 [00:00<?, ?it/s]"
      ]
     },
     "metadata": {},
     "output_type": "display_data"
    },
    {
     "name": "stdout",
     "output_type": "stream",
     "text": [
      "[Epoch 19/30] [Train Loss: 2.7240] [Valid Loss: 2.6633]\n",
      "Epoch    19: reducing learning rate of group 0 to 8.0000e-06.\n"
     ]
    }
   ],
   "source": [
    "for epoch in range(NUM_EPOCHS):\n",
    "  train_loss = runner.run(loader_train, epoch, 'TRAIN')\n",
    "  valid_loss = runner.run(loader_valid, epoch, 'VALID')\n",
    "  print(\"[Epoch %d/%d] [Train Loss: %.4f] [Valid Loss: %.4f]\" %\n",
    "        (epoch + 1, NUM_EPOCHS, train_loss, valid_loss))\n",
    "  if runner.early_stop(valid_loss, epoch + 1):\n",
    "    break"
   ]
  },
  {
   "cell_type": "code",
   "execution_count": 18,
   "metadata": {},
   "outputs": [
    {
     "data": {
      "application/vnd.jupyter.widget-view+json": {
       "model_id": "93cfeca5595146fc9913d02197f3a94f",
       "version_major": 2,
       "version_minor": 0
      },
      "text/plain": [
       "TEST:   0%|          | 0/28 [00:00<?, ?it/s]"
      ]
     },
     "metadata": {},
     "output_type": "display_data"
    },
    {
     "name": "stdout",
     "output_type": "stream",
     "text": [
      "auc=20.09%\n"
     ]
    }
   ],
   "source": [
    "aucs = runner.test(loader_test)\n",
    "print(f'auc={aucs:.2f}%')"
   ]
  },
  {
   "cell_type": "code",
   "execution_count": null,
   "metadata": {},
   "outputs": [],
   "source": []
  }
 ],
 "metadata": {
  "interpreter": {
   "hash": "fd69f43f58546b570e94fd7eba7b65e6bcc7a5bbc4eab0408017d18902915d69"
  },
  "kernelspec": {
   "display_name": "Python 3.7.12 64-bit",
   "name": "python3"
  },
  "language_info": {
   "codemirror_mode": {
    "name": "ipython",
    "version": 3
   },
   "file_extension": ".py",
   "mimetype": "text/x-python",
   "name": "python",
   "nbconvert_exporter": "python",
   "pygments_lexer": "ipython3",
   "version": "3.7.12"
  },
  "orig_nbformat": 4
 },
 "nbformat": 4,
 "nbformat_minor": 2
}
