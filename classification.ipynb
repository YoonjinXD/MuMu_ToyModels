{
 "cells": [
  {
   "cell_type": "code",
   "execution_count": 1,
   "metadata": {},
   "outputs": [],
   "source": [
    "import os\n",
    "import warnings\n",
    "warnings.filterwarnings(action='ignore')\n",
    "\n",
    "import numpy as np\n",
    "import pandas as pd\n",
    "\n",
    "import torch\n",
    "import torchaudio\n",
    "import torchvision\n",
    "import torch.nn as nn\n",
    "\n",
    "from tqdm.notebook import tqdm\n",
    "from torch.optim.lr_scheduler import ReduceLROnPlateau\n",
    "from sklearn import metrics\n",
    "\n",
    "from torch.utils.data import Dataset, DataLoader\n",
    "from torchvision import transforms\n",
    "\n",
    "from matplotlib import pyplot as plt\n",
    "from PIL import Image\n",
    "\n",
    "import pickle\n"
   ]
  },
  {
   "cell_type": "markdown",
   "metadata": {},
   "source": [
    "# Data preprocessing"
   ]
  },
  {
   "cell_type": "code",
   "execution_count": 2,
   "metadata": {},
   "outputs": [],
   "source": [
    "TAGS = ['Blues', 'Jazz', 'Rock', 'R&B', 'Alternative Rock', 'Latin Music', 'Country',\n",
    " 'Rap & Hip-Hop', 'Dance & Electronic', 'Reggae', 'Classical', 'Metal', 'Pop',\n",
    " 'New Age', 'Folk', 'Gospel']\n",
    "\n",
    "data = pd.read_csv(\"./MuMu_dataset/MuMu_dataset_all-label.csv\", sep=\",\", index_col=0)\n"
   ]
  },
  {
   "cell_type": "code",
   "execution_count": 3,
   "metadata": {},
   "outputs": [
    {
     "ename": "UnidentifiedImageError",
     "evalue": "cannot identify image file './MuMu_dataset/album_imgs/Rock/313eVoHHbwL._SL500_.gif'",
     "output_type": "error",
     "traceback": [
      "\u001b[0;31m---------------------------------------------------------------------------\u001b[0m",
      "\u001b[0;31mUnidentifiedImageError\u001b[0m                    Traceback (most recent call last)",
      "\u001b[0;32m/tmp/ipykernel_25893/1036399590.py\u001b[0m in \u001b[0;36m<module>\u001b[0;34m\u001b[0m\n\u001b[1;32m      8\u001b[0m \u001b[0;32mfor\u001b[0m \u001b[0midx\u001b[0m \u001b[0;32min\u001b[0m \u001b[0mrange\u001b[0m\u001b[0;34m(\u001b[0m\u001b[0mlen\u001b[0m\u001b[0;34m(\u001b[0m\u001b[0mdata\u001b[0m\u001b[0;34m)\u001b[0m\u001b[0;34m)\u001b[0m\u001b[0;34m:\u001b[0m\u001b[0;34m\u001b[0m\u001b[0;34m\u001b[0m\u001b[0m\n\u001b[1;32m      9\u001b[0m     \u001b[0mimg_path\u001b[0m \u001b[0;34m=\u001b[0m \u001b[0mdata\u001b[0m\u001b[0;34m.\u001b[0m\u001b[0miloc\u001b[0m\u001b[0;34m[\u001b[0m\u001b[0midx\u001b[0m\u001b[0;34m]\u001b[0m\u001b[0;34m.\u001b[0m\u001b[0mimg_path\u001b[0m\u001b[0;34m\u001b[0m\u001b[0;34m\u001b[0m\u001b[0m\n\u001b[0;32m---> 10\u001b[0;31m     \u001b[0mimg\u001b[0m \u001b[0;34m=\u001b[0m \u001b[0mImage\u001b[0m\u001b[0;34m.\u001b[0m\u001b[0mopen\u001b[0m\u001b[0;34m(\u001b[0m\u001b[0mimg_path\u001b[0m\u001b[0;34m)\u001b[0m\u001b[0;34m.\u001b[0m\u001b[0mconvert\u001b[0m\u001b[0;34m(\u001b[0m\u001b[0;34m\"RGB\"\u001b[0m\u001b[0;34m)\u001b[0m\u001b[0;34m\u001b[0m\u001b[0;34m\u001b[0m\u001b[0m\n\u001b[0m\u001b[1;32m     11\u001b[0m     \u001b[0mtorch\u001b[0m\u001b[0;34m.\u001b[0m\u001b[0msave\u001b[0m\u001b[0;34m(\u001b[0m\u001b[0mtrans\u001b[0m\u001b[0;34m(\u001b[0m\u001b[0mimg\u001b[0m\u001b[0;34m)\u001b[0m\u001b[0;34m,\u001b[0m \u001b[0mimg_path\u001b[0m\u001b[0;34m.\u001b[0m\u001b[0mreplace\u001b[0m\u001b[0;34m(\u001b[0m\u001b[0;34m\".jpg\"\u001b[0m\u001b[0;34m,\u001b[0m \u001b[0;34m\".pt\"\u001b[0m\u001b[0;34m)\u001b[0m\u001b[0;34m)\u001b[0m\u001b[0;34m\u001b[0m\u001b[0;34m\u001b[0m\u001b[0m\n",
      "\u001b[0;32m/usr/local/lib/python3.7/dist-packages/PIL/Image.py\u001b[0m in \u001b[0;36mopen\u001b[0;34m(fp, mode, formats)\u001b[0m\n\u001b[1;32m   3022\u001b[0m         \u001b[0mwarnings\u001b[0m\u001b[0;34m.\u001b[0m\u001b[0mwarn\u001b[0m\u001b[0;34m(\u001b[0m\u001b[0mmessage\u001b[0m\u001b[0;34m)\u001b[0m\u001b[0;34m\u001b[0m\u001b[0;34m\u001b[0m\u001b[0m\n\u001b[1;32m   3023\u001b[0m     raise UnidentifiedImageError(\n\u001b[0;32m-> 3024\u001b[0;31m         \u001b[0;34m\"cannot identify image file %r\"\u001b[0m \u001b[0;34m%\u001b[0m \u001b[0;34m(\u001b[0m\u001b[0mfilename\u001b[0m \u001b[0;32mif\u001b[0m \u001b[0mfilename\u001b[0m \u001b[0;32melse\u001b[0m \u001b[0mfp\u001b[0m\u001b[0;34m)\u001b[0m\u001b[0;34m\u001b[0m\u001b[0;34m\u001b[0m\u001b[0m\n\u001b[0m\u001b[1;32m   3025\u001b[0m     )\n\u001b[1;32m   3026\u001b[0m \u001b[0;34m\u001b[0m\u001b[0m\n",
      "\u001b[0;31mUnidentifiedImageError\u001b[0m: cannot identify image file './MuMu_dataset/album_imgs/Rock/313eVoHHbwL._SL500_.gif'"
     ]
    }
   ],
   "source": [
    "# Convert image files to tensor files & Save\n",
    "trans = transforms.Compose([transforms.Resize((224, 224)),\n",
    "                            transforms.ToTensor(),\n",
    "                            transforms.Normalize([0.485, 0.456, 0.406], [0.229, 0.224, 0.225])])\n",
    "\n",
    "for idx in range(len(data)):\n",
    "    img_path = data.iloc[idx].img_path\n",
    "    img = Image.open(img_path).convert(\"RGB\")\n",
    "    torch.save(trans(img), img_path.replace(\".jpg\", \".pt\"))"
   ]
  },
  {
   "cell_type": "code",
   "execution_count": 3,
   "metadata": {},
   "outputs": [],
   "source": [
    "class AlbumGenreDataset(Dataset):\n",
    "    def __init__(self, data, group='debug'):\n",
    "        \"\"\"\n",
    "        data (Pandas.DataFrame): ['amazon_id', 'title', 'artist', 'img_path', 'genre']\n",
    "        group (String): split group e.g. train, valid\n",
    "        \"\"\"\n",
    "        self.data = data\n",
    "        self.group = group\n",
    "\n",
    "    def __getitem__(self, index):\n",
    "        item = self.data.iloc[index]\n",
    "        img = torch.load(item.img_path.replace(\".jpg\", \".pt\"))\n",
    "\n",
    "        label = TAGS.index(item.genre)\n",
    "        return img, label\n",
    "        \n",
    "\n",
    "    def __len__(self):\n",
    "        return len(self.data)"
   ]
  },
  {
   "cell_type": "code",
   "execution_count": 4,
   "metadata": {},
   "outputs": [
    {
     "name": "stdout",
     "output_type": "stream",
     "text": [
      "(TRAIN, VALID, TEST) =  1346 449 449\n"
     ]
    }
   ],
   "source": [
    "data_num = len(data)\n",
    "tr_data = AlbumGenreDataset(data[:int(data_num*0.6)], 'TRAIN')\n",
    "va_data = AlbumGenreDataset(data[int(data_num*0.6):int(data_num*0.8)], 'VALID')\n",
    "te_data = AlbumGenreDataset(data[int(data_num*0.8):], 'TEST')\n",
    "print(\"(TRAIN, VALID, TEST) = \", len(tr_data), len(va_data), len(te_data))"
   ]
  },
  {
   "cell_type": "code",
   "execution_count": 5,
   "metadata": {},
   "outputs": [],
   "source": [
    "BATCH_SIZE = 16\n",
    "loader_train = DataLoader(tr_data, batch_size=BATCH_SIZE, shuffle=True, drop_last=True)\n",
    "loader_valid = DataLoader(va_data, batch_size=BATCH_SIZE, shuffle=True, drop_last=True)\n",
    "loader_test = DataLoader(te_data, batch_size=BATCH_SIZE, shuffle=True, drop_last=True)"
   ]
  },
  {
   "cell_type": "markdown",
   "metadata": {},
   "source": [
    "# Train simple baseline Model"
   ]
  },
  {
   "cell_type": "code",
   "execution_count": 6,
   "metadata": {},
   "outputs": [],
   "source": [
    "class Baseline(nn.Module):\n",
    "    def __init__(self, n_class=16):\n",
    "        super(Baseline, self).__init__()\n",
    "        self.conv0 = nn.Sequential(\n",
    "            nn.Conv2d(3, out_channels=32, kernel_size=3, stride=1, padding=3),\n",
    "            nn.BatchNorm2d(32),\n",
    "            nn.ReLU(),\n",
    "            nn.MaxPool2d(kernel_size=3, stride=3))\n",
    "\n",
    "        self.conv1 = nn.Sequential(\n",
    "            nn.Conv2d(32, out_channels=32, kernel_size=3, stride=1, padding=3),\n",
    "            nn.BatchNorm2d(32),\n",
    "            nn.ReLU(),\n",
    "            nn.MaxPool2d(kernel_size=3, stride=3))\n",
    "\n",
    "        self.conv2 = nn.Sequential(\n",
    "            nn.Conv2d(32, out_channels=32, kernel_size=3, stride=1, padding=3),\n",
    "            nn.BatchNorm2d(32),\n",
    "            nn.ReLU(),\n",
    "            nn.MaxPool2d(kernel_size=3, stride=3))\n",
    "        \n",
    "        self.final_pool = nn.AdaptiveAvgPool2d(1)\n",
    "        self.linear = nn.Linear(32, n_class)\n",
    "        \n",
    "        \n",
    "    def forward(self, x):\n",
    "        x = self.conv0(x)\n",
    "        x = self.conv1(x)\n",
    "        x = self.conv2(x)\n",
    "        x = self.final_pool(x)\n",
    "        x = x.view(x.size(0), -1)\n",
    "        out = self.linear(x)\n",
    "        #This doesn't need because the CrossEntropyLoss criterion already includes a softmax function.\n",
    "        #out = nn.Softmax()(x)\n",
    "        return out"
   ]
  },
  {
   "cell_type": "code",
   "execution_count": 7,
   "metadata": {},
   "outputs": [],
   "source": [
    "class Runner(object):\n",
    "  def __init__(self, model, lr, weight_decay, sr, tags):\n",
    "    self.optimizer = torch.optim.Adam(model.parameters(), lr=lr, weight_decay=weight_decay)\n",
    "    self.scheduler = ReduceLROnPlateau(self.optimizer, mode='min', factor=0.2, patience=5, verbose=True)\n",
    "    self.learning_rate = lr\n",
    "    self.stopping_rate = sr\n",
    "    self.device = torch.device('cuda') if torch.cuda.is_available() else torch.device('cpu')\n",
    "    self.model = model.to(self.device)\n",
    "    self.criterion = torch.nn.CrossEntropyLoss().to(self.device)\n",
    "    self.tags = tags\n",
    "\n",
    "  def run(self, dataloader, epoch, mode='TRAIN'):\n",
    "    self.model.train() if mode is 'TRAIN' else self.model.eval()\n",
    "\n",
    "    epoch_loss = 0\n",
    "    pbar = tqdm(dataloader, desc=f'{mode} Epoch {epoch:02}')  # progress bar\n",
    "    for x, y in pbar:\n",
    "      x = x.to(self.device)\n",
    "      y = y.to(self.device)\n",
    "      prediction = self.model(x)\n",
    "      loss = self.criterion(prediction, y)\n",
    "      if mode is 'TRAIN':\n",
    "        loss.backward()\n",
    "        self.optimizer.step()\n",
    "        self.optimizer.zero_grad()\n",
    "\n",
    "      batch_size = len(x)\n",
    "      epoch_loss += batch_size * loss.item()\n",
    "    epoch_loss = epoch_loss / len(dataloader.dataset)\n",
    "    return epoch_loss\n",
    "\n",
    "  def test(self, dataloader):\n",
    "    self.model.eval()\n",
    "    total = 0\n",
    "    correct = 0\n",
    "\n",
    "    pbar = tqdm(dataloader, desc=f'TEST')\n",
    "    for x, y in pbar:\n",
    "      x = x.to(self.device)\n",
    "      y = y.to(self.device)\n",
    "      output = self.model(x)\n",
    "\n",
    "      _, predicted = torch.max(output.data, 1)\n",
    "      total += y.size(0)\n",
    "      correct += (predicted == y).sum().item()\n",
    "      \n",
    "    return 100 * correct / total\n",
    "\n",
    "  def early_stop(self, loss, epoch):\n",
    "    self.scheduler.step(loss, epoch)\n",
    "    self.learning_rate = self.optimizer.param_groups[0]['lr']\n",
    "    stop = self.learning_rate < self.stopping_rate\n",
    "    return stop\n"
   ]
  },
  {
   "cell_type": "code",
   "execution_count": 13,
   "metadata": {},
   "outputs": [],
   "source": [
    "# Training setup.\n",
    "LR = 1e-3  # learning rate\n",
    "SR = 1e-5  # stopping rate\n",
    "NUM_EPOCHS = 50\n",
    "WEIGHT_DECAY = 1e-5  # L2 regularization weight\n",
    "\n",
    "model = Baseline()\n",
    "runner = Runner(model=model, lr = LR, weight_decay = WEIGHT_DECAY, sr = SR, tags=TAGS)"
   ]
  },
  {
   "cell_type": "code",
   "execution_count": 14,
   "metadata": {},
   "outputs": [
    {
     "data": {
      "application/vnd.jupyter.widget-view+json": {
       "model_id": "8659de3b720c407bab82128dbf40f3bc",
       "version_major": 2,
       "version_minor": 0
      },
      "text/plain": [
       "TRAIN Epoch 00:   0%|          | 0/84 [00:00<?, ?it/s]"
      ]
     },
     "metadata": {},
     "output_type": "display_data"
    },
    {
     "data": {
      "application/vnd.jupyter.widget-view+json": {
       "model_id": "84bdb36d3ce44e16a0711be928380012",
       "version_major": 2,
       "version_minor": 0
      },
      "text/plain": [
       "VALID Epoch 00:   0%|          | 0/28 [00:00<?, ?it/s]"
      ]
     },
     "metadata": {},
     "output_type": "display_data"
    },
    {
     "name": "stdout",
     "output_type": "stream",
     "text": [
      "[Epoch 1/50] [Train Loss: 2.4984] [Valid Loss: 2.3641]\n"
     ]
    },
    {
     "data": {
      "application/vnd.jupyter.widget-view+json": {
       "model_id": "05f0d5daea154636ac93a3e591011dc4",
       "version_major": 2,
       "version_minor": 0
      },
      "text/plain": [
       "TRAIN Epoch 01:   0%|          | 0/84 [00:00<?, ?it/s]"
      ]
     },
     "metadata": {},
     "output_type": "display_data"
    },
    {
     "data": {
      "application/vnd.jupyter.widget-view+json": {
       "model_id": "583a17176bc54e08bc0455b6f7586212",
       "version_major": 2,
       "version_minor": 0
      },
      "text/plain": [
       "VALID Epoch 01:   0%|          | 0/28 [00:00<?, ?it/s]"
      ]
     },
     "metadata": {},
     "output_type": "display_data"
    },
    {
     "name": "stdout",
     "output_type": "stream",
     "text": [
      "[Epoch 2/50] [Train Loss: 2.3130] [Valid Loss: 2.3099]\n"
     ]
    },
    {
     "data": {
      "application/vnd.jupyter.widget-view+json": {
       "model_id": "761e46a3af3845119609d23a3d45d1c7",
       "version_major": 2,
       "version_minor": 0
      },
      "text/plain": [
       "TRAIN Epoch 02:   0%|          | 0/84 [00:00<?, ?it/s]"
      ]
     },
     "metadata": {},
     "output_type": "display_data"
    },
    {
     "data": {
      "application/vnd.jupyter.widget-view+json": {
       "model_id": "c6f5bbc557cd4ee49eeac41d66a09da2",
       "version_major": 2,
       "version_minor": 0
      },
      "text/plain": [
       "VALID Epoch 02:   0%|          | 0/28 [00:00<?, ?it/s]"
      ]
     },
     "metadata": {},
     "output_type": "display_data"
    },
    {
     "name": "stdout",
     "output_type": "stream",
     "text": [
      "[Epoch 3/50] [Train Loss: 2.2989] [Valid Loss: 2.3085]\n"
     ]
    },
    {
     "data": {
      "application/vnd.jupyter.widget-view+json": {
       "model_id": "5bf0e0c425e0422992dc166922cc08a2",
       "version_major": 2,
       "version_minor": 0
      },
      "text/plain": [
       "TRAIN Epoch 03:   0%|          | 0/84 [00:00<?, ?it/s]"
      ]
     },
     "metadata": {},
     "output_type": "display_data"
    },
    {
     "data": {
      "application/vnd.jupyter.widget-view+json": {
       "model_id": "0e2ef770f6c94b13a952fe77df9ca291",
       "version_major": 2,
       "version_minor": 0
      },
      "text/plain": [
       "VALID Epoch 03:   0%|          | 0/28 [00:00<?, ?it/s]"
      ]
     },
     "metadata": {},
     "output_type": "display_data"
    },
    {
     "name": "stdout",
     "output_type": "stream",
     "text": [
      "[Epoch 4/50] [Train Loss: 2.2807] [Valid Loss: 2.3572]\n"
     ]
    },
    {
     "data": {
      "application/vnd.jupyter.widget-view+json": {
       "model_id": "c95d08c14b2d4bea8a57c13e9793314a",
       "version_major": 2,
       "version_minor": 0
      },
      "text/plain": [
       "TRAIN Epoch 04:   0%|          | 0/84 [00:00<?, ?it/s]"
      ]
     },
     "metadata": {},
     "output_type": "display_data"
    },
    {
     "data": {
      "application/vnd.jupyter.widget-view+json": {
       "model_id": "f290322f5342416e9807dfbd2ad8334c",
       "version_major": 2,
       "version_minor": 0
      },
      "text/plain": [
       "VALID Epoch 04:   0%|          | 0/28 [00:00<?, ?it/s]"
      ]
     },
     "metadata": {},
     "output_type": "display_data"
    },
    {
     "name": "stdout",
     "output_type": "stream",
     "text": [
      "[Epoch 5/50] [Train Loss: 2.2787] [Valid Loss: 2.3241]\n"
     ]
    },
    {
     "data": {
      "application/vnd.jupyter.widget-view+json": {
       "model_id": "8e5a32527aad40f98ab48bcbb555be45",
       "version_major": 2,
       "version_minor": 0
      },
      "text/plain": [
       "TRAIN Epoch 05:   0%|          | 0/84 [00:00<?, ?it/s]"
      ]
     },
     "metadata": {},
     "output_type": "display_data"
    },
    {
     "data": {
      "application/vnd.jupyter.widget-view+json": {
       "model_id": "1dfa27a08f7c46dbaa6f4e86aa732936",
       "version_major": 2,
       "version_minor": 0
      },
      "text/plain": [
       "VALID Epoch 05:   0%|          | 0/28 [00:00<?, ?it/s]"
      ]
     },
     "metadata": {},
     "output_type": "display_data"
    },
    {
     "name": "stdout",
     "output_type": "stream",
     "text": [
      "[Epoch 6/50] [Train Loss: 2.2623] [Valid Loss: 2.2834]\n"
     ]
    },
    {
     "data": {
      "application/vnd.jupyter.widget-view+json": {
       "model_id": "c9b9939df8f441ca9dcbd6f4a5050d92",
       "version_major": 2,
       "version_minor": 0
      },
      "text/plain": [
       "TRAIN Epoch 06:   0%|          | 0/84 [00:00<?, ?it/s]"
      ]
     },
     "metadata": {},
     "output_type": "display_data"
    },
    {
     "data": {
      "application/vnd.jupyter.widget-view+json": {
       "model_id": "4564582f67134b97a9dcc276d6ca0862",
       "version_major": 2,
       "version_minor": 0
      },
      "text/plain": [
       "VALID Epoch 06:   0%|          | 0/28 [00:00<?, ?it/s]"
      ]
     },
     "metadata": {},
     "output_type": "display_data"
    },
    {
     "name": "stdout",
     "output_type": "stream",
     "text": [
      "[Epoch 7/50] [Train Loss: 2.2601] [Valid Loss: 2.2829]\n"
     ]
    },
    {
     "data": {
      "application/vnd.jupyter.widget-view+json": {
       "model_id": "77cbde35d40a4cffb9da65aeeadff99c",
       "version_major": 2,
       "version_minor": 0
      },
      "text/plain": [
       "TRAIN Epoch 07:   0%|          | 0/84 [00:00<?, ?it/s]"
      ]
     },
     "metadata": {},
     "output_type": "display_data"
    },
    {
     "data": {
      "application/vnd.jupyter.widget-view+json": {
       "model_id": "e73c43394eb8407db33050e183454f77",
       "version_major": 2,
       "version_minor": 0
      },
      "text/plain": [
       "VALID Epoch 07:   0%|          | 0/28 [00:00<?, ?it/s]"
      ]
     },
     "metadata": {},
     "output_type": "display_data"
    },
    {
     "name": "stdout",
     "output_type": "stream",
     "text": [
      "[Epoch 8/50] [Train Loss: 2.2506] [Valid Loss: 2.2939]\n"
     ]
    },
    {
     "data": {
      "application/vnd.jupyter.widget-view+json": {
       "model_id": "e00325c9a5b842b2ad9a0382ea0a29bf",
       "version_major": 2,
       "version_minor": 0
      },
      "text/plain": [
       "TRAIN Epoch 08:   0%|          | 0/84 [00:00<?, ?it/s]"
      ]
     },
     "metadata": {},
     "output_type": "display_data"
    },
    {
     "data": {
      "application/vnd.jupyter.widget-view+json": {
       "model_id": "138a6685b48a401aa829d0fab7e0af42",
       "version_major": 2,
       "version_minor": 0
      },
      "text/plain": [
       "VALID Epoch 08:   0%|          | 0/28 [00:00<?, ?it/s]"
      ]
     },
     "metadata": {},
     "output_type": "display_data"
    },
    {
     "name": "stdout",
     "output_type": "stream",
     "text": [
      "[Epoch 9/50] [Train Loss: 2.2487] [Valid Loss: 2.2779]\n"
     ]
    },
    {
     "data": {
      "application/vnd.jupyter.widget-view+json": {
       "model_id": "b2bdac27d39d414db7cf73c37b15b077",
       "version_major": 2,
       "version_minor": 0
      },
      "text/plain": [
       "TRAIN Epoch 09:   0%|          | 0/84 [00:00<?, ?it/s]"
      ]
     },
     "metadata": {},
     "output_type": "display_data"
    },
    {
     "data": {
      "application/vnd.jupyter.widget-view+json": {
       "model_id": "3862e25678e642c4ab84f7d6fe2ffa3c",
       "version_major": 2,
       "version_minor": 0
      },
      "text/plain": [
       "VALID Epoch 09:   0%|          | 0/28 [00:00<?, ?it/s]"
      ]
     },
     "metadata": {},
     "output_type": "display_data"
    },
    {
     "name": "stdout",
     "output_type": "stream",
     "text": [
      "[Epoch 10/50] [Train Loss: 2.2395] [Valid Loss: 2.2738]\n"
     ]
    },
    {
     "data": {
      "application/vnd.jupyter.widget-view+json": {
       "model_id": "3e01c50709774d41aa3d4a5c43363374",
       "version_major": 2,
       "version_minor": 0
      },
      "text/plain": [
       "TRAIN Epoch 10:   0%|          | 0/84 [00:00<?, ?it/s]"
      ]
     },
     "metadata": {},
     "output_type": "display_data"
    },
    {
     "data": {
      "application/vnd.jupyter.widget-view+json": {
       "model_id": "81b12a7192fd46408fd96f9a51293744",
       "version_major": 2,
       "version_minor": 0
      },
      "text/plain": [
       "VALID Epoch 10:   0%|          | 0/28 [00:00<?, ?it/s]"
      ]
     },
     "metadata": {},
     "output_type": "display_data"
    },
    {
     "name": "stdout",
     "output_type": "stream",
     "text": [
      "[Epoch 11/50] [Train Loss: 2.2333] [Valid Loss: 2.2833]\n"
     ]
    },
    {
     "data": {
      "application/vnd.jupyter.widget-view+json": {
       "model_id": "a9fd371f9838494c973d719fa5f452e8",
       "version_major": 2,
       "version_minor": 0
      },
      "text/plain": [
       "TRAIN Epoch 11:   0%|          | 0/84 [00:00<?, ?it/s]"
      ]
     },
     "metadata": {},
     "output_type": "display_data"
    },
    {
     "data": {
      "application/vnd.jupyter.widget-view+json": {
       "model_id": "a56fb6d7d2714e01993ca80c206642a3",
       "version_major": 2,
       "version_minor": 0
      },
      "text/plain": [
       "VALID Epoch 11:   0%|          | 0/28 [00:00<?, ?it/s]"
      ]
     },
     "metadata": {},
     "output_type": "display_data"
    },
    {
     "name": "stdout",
     "output_type": "stream",
     "text": [
      "[Epoch 12/50] [Train Loss: 2.2315] [Valid Loss: 2.2825]\n"
     ]
    },
    {
     "data": {
      "application/vnd.jupyter.widget-view+json": {
       "model_id": "422bf49ea7fe40e087e9b99c6d079a4b",
       "version_major": 2,
       "version_minor": 0
      },
      "text/plain": [
       "TRAIN Epoch 12:   0%|          | 0/84 [00:00<?, ?it/s]"
      ]
     },
     "metadata": {},
     "output_type": "display_data"
    },
    {
     "data": {
      "application/vnd.jupyter.widget-view+json": {
       "model_id": "557370bf06bd40f684d3649450d3508e",
       "version_major": 2,
       "version_minor": 0
      },
      "text/plain": [
       "VALID Epoch 12:   0%|          | 0/28 [00:00<?, ?it/s]"
      ]
     },
     "metadata": {},
     "output_type": "display_data"
    },
    {
     "name": "stdout",
     "output_type": "stream",
     "text": [
      "[Epoch 13/50] [Train Loss: 2.2214] [Valid Loss: 2.2817]\n"
     ]
    },
    {
     "data": {
      "application/vnd.jupyter.widget-view+json": {
       "model_id": "830a871406da42f78fb0bd1606e4112b",
       "version_major": 2,
       "version_minor": 0
      },
      "text/plain": [
       "TRAIN Epoch 13:   0%|          | 0/84 [00:00<?, ?it/s]"
      ]
     },
     "metadata": {},
     "output_type": "display_data"
    },
    {
     "data": {
      "application/vnd.jupyter.widget-view+json": {
       "model_id": "65b4d778e0fe412da08dd3064420d94a",
       "version_major": 2,
       "version_minor": 0
      },
      "text/plain": [
       "VALID Epoch 13:   0%|          | 0/28 [00:00<?, ?it/s]"
      ]
     },
     "metadata": {},
     "output_type": "display_data"
    },
    {
     "name": "stdout",
     "output_type": "stream",
     "text": [
      "[Epoch 14/50] [Train Loss: 2.2210] [Valid Loss: 2.2709]\n"
     ]
    },
    {
     "data": {
      "application/vnd.jupyter.widget-view+json": {
       "model_id": "29aa4914bdf14d98a633bf34f522ead2",
       "version_major": 2,
       "version_minor": 0
      },
      "text/plain": [
       "TRAIN Epoch 14:   0%|          | 0/84 [00:00<?, ?it/s]"
      ]
     },
     "metadata": {},
     "output_type": "display_data"
    },
    {
     "data": {
      "application/vnd.jupyter.widget-view+json": {
       "model_id": "c7f1d82e86a34cf397fbd6fb940d5f36",
       "version_major": 2,
       "version_minor": 0
      },
      "text/plain": [
       "VALID Epoch 14:   0%|          | 0/28 [00:00<?, ?it/s]"
      ]
     },
     "metadata": {},
     "output_type": "display_data"
    },
    {
     "name": "stdout",
     "output_type": "stream",
     "text": [
      "[Epoch 15/50] [Train Loss: 2.2143] [Valid Loss: 2.2649]\n"
     ]
    },
    {
     "data": {
      "application/vnd.jupyter.widget-view+json": {
       "model_id": "82cfd459e5ad440ebb93d60e16c0f046",
       "version_major": 2,
       "version_minor": 0
      },
      "text/plain": [
       "TRAIN Epoch 15:   0%|          | 0/84 [00:00<?, ?it/s]"
      ]
     },
     "metadata": {},
     "output_type": "display_data"
    },
    {
     "data": {
      "application/vnd.jupyter.widget-view+json": {
       "model_id": "3203a6ca4948476e859c216f688c1af0",
       "version_major": 2,
       "version_minor": 0
      },
      "text/plain": [
       "VALID Epoch 15:   0%|          | 0/28 [00:00<?, ?it/s]"
      ]
     },
     "metadata": {},
     "output_type": "display_data"
    },
    {
     "name": "stdout",
     "output_type": "stream",
     "text": [
      "[Epoch 16/50] [Train Loss: 2.2121] [Valid Loss: 2.2848]\n"
     ]
    },
    {
     "data": {
      "application/vnd.jupyter.widget-view+json": {
       "model_id": "a4e51ac85e6d4579a498d6d5b02066b6",
       "version_major": 2,
       "version_minor": 0
      },
      "text/plain": [
       "TRAIN Epoch 16:   0%|          | 0/84 [00:00<?, ?it/s]"
      ]
     },
     "metadata": {},
     "output_type": "display_data"
    },
    {
     "data": {
      "application/vnd.jupyter.widget-view+json": {
       "model_id": "8c7b01d08d93408dae67dc76eac8769b",
       "version_major": 2,
       "version_minor": 0
      },
      "text/plain": [
       "VALID Epoch 16:   0%|          | 0/28 [00:00<?, ?it/s]"
      ]
     },
     "metadata": {},
     "output_type": "display_data"
    },
    {
     "name": "stdout",
     "output_type": "stream",
     "text": [
      "[Epoch 17/50] [Train Loss: 2.1972] [Valid Loss: 2.2767]\n"
     ]
    },
    {
     "data": {
      "application/vnd.jupyter.widget-view+json": {
       "model_id": "209bfcfa0ee3441c81fda69d98f1fa47",
       "version_major": 2,
       "version_minor": 0
      },
      "text/plain": [
       "TRAIN Epoch 17:   0%|          | 0/84 [00:00<?, ?it/s]"
      ]
     },
     "metadata": {},
     "output_type": "display_data"
    },
    {
     "data": {
      "application/vnd.jupyter.widget-view+json": {
       "model_id": "81f2882e9a204c0b9838873b4a33bc4c",
       "version_major": 2,
       "version_minor": 0
      },
      "text/plain": [
       "VALID Epoch 17:   0%|          | 0/28 [00:00<?, ?it/s]"
      ]
     },
     "metadata": {},
     "output_type": "display_data"
    },
    {
     "name": "stdout",
     "output_type": "stream",
     "text": [
      "[Epoch 18/50] [Train Loss: 2.1916] [Valid Loss: 2.3124]\n"
     ]
    },
    {
     "data": {
      "application/vnd.jupyter.widget-view+json": {
       "model_id": "9c9d95c52120476a842c23b3384cf318",
       "version_major": 2,
       "version_minor": 0
      },
      "text/plain": [
       "TRAIN Epoch 18:   0%|          | 0/84 [00:00<?, ?it/s]"
      ]
     },
     "metadata": {},
     "output_type": "display_data"
    },
    {
     "data": {
      "application/vnd.jupyter.widget-view+json": {
       "model_id": "f730eb9d071d4befb8071b124e6fa4ef",
       "version_major": 2,
       "version_minor": 0
      },
      "text/plain": [
       "VALID Epoch 18:   0%|          | 0/28 [00:00<?, ?it/s]"
      ]
     },
     "metadata": {},
     "output_type": "display_data"
    },
    {
     "name": "stdout",
     "output_type": "stream",
     "text": [
      "[Epoch 19/50] [Train Loss: 2.1889] [Valid Loss: 2.2928]\n"
     ]
    },
    {
     "data": {
      "application/vnd.jupyter.widget-view+json": {
       "model_id": "f4dbd36470e04a0b9ee28dfc904886da",
       "version_major": 2,
       "version_minor": 0
      },
      "text/plain": [
       "TRAIN Epoch 19:   0%|          | 0/84 [00:00<?, ?it/s]"
      ]
     },
     "metadata": {},
     "output_type": "display_data"
    },
    {
     "data": {
      "application/vnd.jupyter.widget-view+json": {
       "model_id": "1ef323eeffeb491080cfab3f03f7adf4",
       "version_major": 2,
       "version_minor": 0
      },
      "text/plain": [
       "VALID Epoch 19:   0%|          | 0/28 [00:00<?, ?it/s]"
      ]
     },
     "metadata": {},
     "output_type": "display_data"
    },
    {
     "name": "stdout",
     "output_type": "stream",
     "text": [
      "[Epoch 20/50] [Train Loss: 2.1987] [Valid Loss: 2.2558]\n"
     ]
    },
    {
     "data": {
      "application/vnd.jupyter.widget-view+json": {
       "model_id": "92f8a329047947a281a702040b757ff6",
       "version_major": 2,
       "version_minor": 0
      },
      "text/plain": [
       "TRAIN Epoch 20:   0%|          | 0/84 [00:00<?, ?it/s]"
      ]
     },
     "metadata": {},
     "output_type": "display_data"
    },
    {
     "data": {
      "application/vnd.jupyter.widget-view+json": {
       "model_id": "e95ef84a13064b5c81f070e7d56124ff",
       "version_major": 2,
       "version_minor": 0
      },
      "text/plain": [
       "VALID Epoch 20:   0%|          | 0/28 [00:00<?, ?it/s]"
      ]
     },
     "metadata": {},
     "output_type": "display_data"
    },
    {
     "name": "stdout",
     "output_type": "stream",
     "text": [
      "[Epoch 21/50] [Train Loss: 2.1794] [Valid Loss: 2.2671]\n"
     ]
    },
    {
     "data": {
      "application/vnd.jupyter.widget-view+json": {
       "model_id": "76cc4afeec9f4e358d547815fb1e94ad",
       "version_major": 2,
       "version_minor": 0
      },
      "text/plain": [
       "TRAIN Epoch 21:   0%|          | 0/84 [00:00<?, ?it/s]"
      ]
     },
     "metadata": {},
     "output_type": "display_data"
    },
    {
     "data": {
      "application/vnd.jupyter.widget-view+json": {
       "model_id": "80dc93a554514f8b95720e85663f9c19",
       "version_major": 2,
       "version_minor": 0
      },
      "text/plain": [
       "VALID Epoch 21:   0%|          | 0/28 [00:00<?, ?it/s]"
      ]
     },
     "metadata": {},
     "output_type": "display_data"
    },
    {
     "name": "stdout",
     "output_type": "stream",
     "text": [
      "[Epoch 22/50] [Train Loss: 2.1779] [Valid Loss: 2.2969]\n"
     ]
    },
    {
     "data": {
      "application/vnd.jupyter.widget-view+json": {
       "model_id": "723d5afb759e4f54b10079a31713a8a6",
       "version_major": 2,
       "version_minor": 0
      },
      "text/plain": [
       "TRAIN Epoch 22:   0%|          | 0/84 [00:00<?, ?it/s]"
      ]
     },
     "metadata": {},
     "output_type": "display_data"
    },
    {
     "data": {
      "application/vnd.jupyter.widget-view+json": {
       "model_id": "31102c09fd704a95941e1694cb65f00f",
       "version_major": 2,
       "version_minor": 0
      },
      "text/plain": [
       "VALID Epoch 22:   0%|          | 0/28 [00:00<?, ?it/s]"
      ]
     },
     "metadata": {},
     "output_type": "display_data"
    },
    {
     "name": "stdout",
     "output_type": "stream",
     "text": [
      "[Epoch 23/50] [Train Loss: 2.1765] [Valid Loss: 2.2633]\n"
     ]
    },
    {
     "data": {
      "application/vnd.jupyter.widget-view+json": {
       "model_id": "167e776e23554155ac836419c78d0391",
       "version_major": 2,
       "version_minor": 0
      },
      "text/plain": [
       "TRAIN Epoch 23:   0%|          | 0/84 [00:00<?, ?it/s]"
      ]
     },
     "metadata": {},
     "output_type": "display_data"
    },
    {
     "data": {
      "application/vnd.jupyter.widget-view+json": {
       "model_id": "d41d9924e7414c6887faf8e980f3ba9e",
       "version_major": 2,
       "version_minor": 0
      },
      "text/plain": [
       "VALID Epoch 23:   0%|          | 0/28 [00:00<?, ?it/s]"
      ]
     },
     "metadata": {},
     "output_type": "display_data"
    },
    {
     "name": "stdout",
     "output_type": "stream",
     "text": [
      "[Epoch 24/50] [Train Loss: 2.1699] [Valid Loss: 2.2675]\n"
     ]
    },
    {
     "data": {
      "application/vnd.jupyter.widget-view+json": {
       "model_id": "f78abf98dbce4cd8b969816b61b6c438",
       "version_major": 2,
       "version_minor": 0
      },
      "text/plain": [
       "TRAIN Epoch 24:   0%|          | 0/84 [00:00<?, ?it/s]"
      ]
     },
     "metadata": {},
     "output_type": "display_data"
    },
    {
     "data": {
      "application/vnd.jupyter.widget-view+json": {
       "model_id": "8c552ee19dc24c04a58020e723a1a046",
       "version_major": 2,
       "version_minor": 0
      },
      "text/plain": [
       "VALID Epoch 24:   0%|          | 0/28 [00:00<?, ?it/s]"
      ]
     },
     "metadata": {},
     "output_type": "display_data"
    },
    {
     "name": "stdout",
     "output_type": "stream",
     "text": [
      "[Epoch 25/50] [Train Loss: 2.1668] [Valid Loss: 2.2708]\n"
     ]
    },
    {
     "data": {
      "application/vnd.jupyter.widget-view+json": {
       "model_id": "998e5772d7924c4fa4149d67a1196a13",
       "version_major": 2,
       "version_minor": 0
      },
      "text/plain": [
       "TRAIN Epoch 25:   0%|          | 0/84 [00:00<?, ?it/s]"
      ]
     },
     "metadata": {},
     "output_type": "display_data"
    },
    {
     "data": {
      "application/vnd.jupyter.widget-view+json": {
       "model_id": "9644e6ed474d465ebbb11cc6d02b0955",
       "version_major": 2,
       "version_minor": 0
      },
      "text/plain": [
       "VALID Epoch 25:   0%|          | 0/28 [00:00<?, ?it/s]"
      ]
     },
     "metadata": {},
     "output_type": "display_data"
    },
    {
     "name": "stdout",
     "output_type": "stream",
     "text": [
      "[Epoch 26/50] [Train Loss: 2.1536] [Valid Loss: 2.2795]\n",
      "Epoch    26: reducing learning rate of group 0 to 2.0000e-04.\n"
     ]
    },
    {
     "data": {
      "application/vnd.jupyter.widget-view+json": {
       "model_id": "221f7317db3249979ac5fcf9ffea673d",
       "version_major": 2,
       "version_minor": 0
      },
      "text/plain": [
       "TRAIN Epoch 26:   0%|          | 0/84 [00:00<?, ?it/s]"
      ]
     },
     "metadata": {},
     "output_type": "display_data"
    },
    {
     "data": {
      "application/vnd.jupyter.widget-view+json": {
       "model_id": "0cfd0d9d97c1460fbb506568d44b056f",
       "version_major": 2,
       "version_minor": 0
      },
      "text/plain": [
       "VALID Epoch 26:   0%|          | 0/28 [00:00<?, ?it/s]"
      ]
     },
     "metadata": {},
     "output_type": "display_data"
    },
    {
     "name": "stdout",
     "output_type": "stream",
     "text": [
      "[Epoch 27/50] [Train Loss: 2.1294] [Valid Loss: 2.2486]\n"
     ]
    },
    {
     "data": {
      "application/vnd.jupyter.widget-view+json": {
       "model_id": "6b5f8b6fa85f428b942b43bfffdf3dc9",
       "version_major": 2,
       "version_minor": 0
      },
      "text/plain": [
       "TRAIN Epoch 27:   0%|          | 0/84 [00:00<?, ?it/s]"
      ]
     },
     "metadata": {},
     "output_type": "display_data"
    },
    {
     "data": {
      "application/vnd.jupyter.widget-view+json": {
       "model_id": "a6b07c8529b34c48ba936485d5b8154f",
       "version_major": 2,
       "version_minor": 0
      },
      "text/plain": [
       "VALID Epoch 27:   0%|          | 0/28 [00:00<?, ?it/s]"
      ]
     },
     "metadata": {},
     "output_type": "display_data"
    },
    {
     "name": "stdout",
     "output_type": "stream",
     "text": [
      "[Epoch 28/50] [Train Loss: 2.1080] [Valid Loss: 2.2515]\n"
     ]
    },
    {
     "data": {
      "application/vnd.jupyter.widget-view+json": {
       "model_id": "1ad828674539420596df4f8c047ae553",
       "version_major": 2,
       "version_minor": 0
      },
      "text/plain": [
       "TRAIN Epoch 28:   0%|          | 0/84 [00:00<?, ?it/s]"
      ]
     },
     "metadata": {},
     "output_type": "display_data"
    },
    {
     "data": {
      "application/vnd.jupyter.widget-view+json": {
       "model_id": "57b54066b8464ccc861c7d8a644ea7f2",
       "version_major": 2,
       "version_minor": 0
      },
      "text/plain": [
       "VALID Epoch 28:   0%|          | 0/28 [00:00<?, ?it/s]"
      ]
     },
     "metadata": {},
     "output_type": "display_data"
    },
    {
     "name": "stdout",
     "output_type": "stream",
     "text": [
      "[Epoch 29/50] [Train Loss: 2.1047] [Valid Loss: 2.2552]\n"
     ]
    },
    {
     "data": {
      "application/vnd.jupyter.widget-view+json": {
       "model_id": "88619d2af49c427fae18c9f76e32580e",
       "version_major": 2,
       "version_minor": 0
      },
      "text/plain": [
       "TRAIN Epoch 29:   0%|          | 0/84 [00:00<?, ?it/s]"
      ]
     },
     "metadata": {},
     "output_type": "display_data"
    },
    {
     "data": {
      "application/vnd.jupyter.widget-view+json": {
       "model_id": "a5f5f5713e4f4684a31b39d2fcac39b5",
       "version_major": 2,
       "version_minor": 0
      },
      "text/plain": [
       "VALID Epoch 29:   0%|          | 0/28 [00:00<?, ?it/s]"
      ]
     },
     "metadata": {},
     "output_type": "display_data"
    },
    {
     "name": "stdout",
     "output_type": "stream",
     "text": [
      "[Epoch 30/50] [Train Loss: 2.1078] [Valid Loss: 2.2493]\n"
     ]
    },
    {
     "data": {
      "application/vnd.jupyter.widget-view+json": {
       "model_id": "55ecfac1f1504a6aacde115ab6c9930a",
       "version_major": 2,
       "version_minor": 0
      },
      "text/plain": [
       "TRAIN Epoch 30:   0%|          | 0/84 [00:00<?, ?it/s]"
      ]
     },
     "metadata": {},
     "output_type": "display_data"
    },
    {
     "data": {
      "application/vnd.jupyter.widget-view+json": {
       "model_id": "75becb6a6fe94dfeb281e89a1d3e6b42",
       "version_major": 2,
       "version_minor": 0
      },
      "text/plain": [
       "VALID Epoch 30:   0%|          | 0/28 [00:00<?, ?it/s]"
      ]
     },
     "metadata": {},
     "output_type": "display_data"
    },
    {
     "name": "stdout",
     "output_type": "stream",
     "text": [
      "[Epoch 31/50] [Train Loss: 2.0958] [Valid Loss: 2.2477]\n"
     ]
    },
    {
     "data": {
      "application/vnd.jupyter.widget-view+json": {
       "model_id": "8628cc78957c45a488a4de372843afb8",
       "version_major": 2,
       "version_minor": 0
      },
      "text/plain": [
       "TRAIN Epoch 31:   0%|          | 0/84 [00:00<?, ?it/s]"
      ]
     },
     "metadata": {},
     "output_type": "display_data"
    },
    {
     "data": {
      "application/vnd.jupyter.widget-view+json": {
       "model_id": "065a5ed248424633a9157a45f77ec1ea",
       "version_major": 2,
       "version_minor": 0
      },
      "text/plain": [
       "VALID Epoch 31:   0%|          | 0/28 [00:00<?, ?it/s]"
      ]
     },
     "metadata": {},
     "output_type": "display_data"
    },
    {
     "name": "stdout",
     "output_type": "stream",
     "text": [
      "[Epoch 32/50] [Train Loss: 2.0970] [Valid Loss: 2.2402]\n"
     ]
    },
    {
     "data": {
      "application/vnd.jupyter.widget-view+json": {
       "model_id": "51fdea16323d46da9dd8f6c5efbb2f18",
       "version_major": 2,
       "version_minor": 0
      },
      "text/plain": [
       "TRAIN Epoch 32:   0%|          | 0/84 [00:00<?, ?it/s]"
      ]
     },
     "metadata": {},
     "output_type": "display_data"
    },
    {
     "data": {
      "application/vnd.jupyter.widget-view+json": {
       "model_id": "dbc1c02c26c7497db3f4850262f11199",
       "version_major": 2,
       "version_minor": 0
      },
      "text/plain": [
       "VALID Epoch 32:   0%|          | 0/28 [00:00<?, ?it/s]"
      ]
     },
     "metadata": {},
     "output_type": "display_data"
    },
    {
     "name": "stdout",
     "output_type": "stream",
     "text": [
      "[Epoch 33/50] [Train Loss: 2.0865] [Valid Loss: 2.2432]\n"
     ]
    },
    {
     "data": {
      "application/vnd.jupyter.widget-view+json": {
       "model_id": "c954f17c3154412891cf770a54ff54da",
       "version_major": 2,
       "version_minor": 0
      },
      "text/plain": [
       "TRAIN Epoch 33:   0%|          | 0/84 [00:00<?, ?it/s]"
      ]
     },
     "metadata": {},
     "output_type": "display_data"
    },
    {
     "data": {
      "application/vnd.jupyter.widget-view+json": {
       "model_id": "d2ed1932518e43bf99d2d60716b5f256",
       "version_major": 2,
       "version_minor": 0
      },
      "text/plain": [
       "VALID Epoch 33:   0%|          | 0/28 [00:00<?, ?it/s]"
      ]
     },
     "metadata": {},
     "output_type": "display_data"
    },
    {
     "name": "stdout",
     "output_type": "stream",
     "text": [
      "[Epoch 34/50] [Train Loss: 2.0917] [Valid Loss: 2.2528]\n"
     ]
    },
    {
     "data": {
      "application/vnd.jupyter.widget-view+json": {
       "model_id": "15f054edab6b4b5197ed9763e82bf2b7",
       "version_major": 2,
       "version_minor": 0
      },
      "text/plain": [
       "TRAIN Epoch 34:   0%|          | 0/84 [00:00<?, ?it/s]"
      ]
     },
     "metadata": {},
     "output_type": "display_data"
    },
    {
     "data": {
      "application/vnd.jupyter.widget-view+json": {
       "model_id": "b2d4d0c3ea5048e49cb74c8967f35601",
       "version_major": 2,
       "version_minor": 0
      },
      "text/plain": [
       "VALID Epoch 34:   0%|          | 0/28 [00:00<?, ?it/s]"
      ]
     },
     "metadata": {},
     "output_type": "display_data"
    },
    {
     "name": "stdout",
     "output_type": "stream",
     "text": [
      "[Epoch 35/50] [Train Loss: 2.0791] [Valid Loss: 2.2534]\n"
     ]
    },
    {
     "data": {
      "application/vnd.jupyter.widget-view+json": {
       "model_id": "a8cd56e053ea4b12b38497aa1d8bc2b5",
       "version_major": 2,
       "version_minor": 0
      },
      "text/plain": [
       "TRAIN Epoch 35:   0%|          | 0/84 [00:00<?, ?it/s]"
      ]
     },
     "metadata": {},
     "output_type": "display_data"
    },
    {
     "data": {
      "application/vnd.jupyter.widget-view+json": {
       "model_id": "5689e35ce7c340b28c98f27ba7bb9f3c",
       "version_major": 2,
       "version_minor": 0
      },
      "text/plain": [
       "VALID Epoch 35:   0%|          | 0/28 [00:00<?, ?it/s]"
      ]
     },
     "metadata": {},
     "output_type": "display_data"
    },
    {
     "name": "stdout",
     "output_type": "stream",
     "text": [
      "[Epoch 36/50] [Train Loss: 2.0808] [Valid Loss: 2.2507]\n"
     ]
    },
    {
     "data": {
      "application/vnd.jupyter.widget-view+json": {
       "model_id": "d3a5723925a34cee8bd1a6df87e0a60a",
       "version_major": 2,
       "version_minor": 0
      },
      "text/plain": [
       "TRAIN Epoch 36:   0%|          | 0/84 [00:00<?, ?it/s]"
      ]
     },
     "metadata": {},
     "output_type": "display_data"
    },
    {
     "data": {
      "application/vnd.jupyter.widget-view+json": {
       "model_id": "961027b5d89f4a76aa2fa03ab794dc6a",
       "version_major": 2,
       "version_minor": 0
      },
      "text/plain": [
       "VALID Epoch 36:   0%|          | 0/28 [00:00<?, ?it/s]"
      ]
     },
     "metadata": {},
     "output_type": "display_data"
    },
    {
     "name": "stdout",
     "output_type": "stream",
     "text": [
      "[Epoch 37/50] [Train Loss: 2.0742] [Valid Loss: 2.2521]\n"
     ]
    },
    {
     "data": {
      "application/vnd.jupyter.widget-view+json": {
       "model_id": "3fe59cff987d49a1bc79b65b17e53407",
       "version_major": 2,
       "version_minor": 0
      },
      "text/plain": [
       "TRAIN Epoch 37:   0%|          | 0/84 [00:00<?, ?it/s]"
      ]
     },
     "metadata": {},
     "output_type": "display_data"
    },
    {
     "data": {
      "application/vnd.jupyter.widget-view+json": {
       "model_id": "fabdde572fc54d0ea13efb1ac7104e9e",
       "version_major": 2,
       "version_minor": 0
      },
      "text/plain": [
       "VALID Epoch 37:   0%|          | 0/28 [00:00<?, ?it/s]"
      ]
     },
     "metadata": {},
     "output_type": "display_data"
    },
    {
     "name": "stdout",
     "output_type": "stream",
     "text": [
      "[Epoch 38/50] [Train Loss: 2.0792] [Valid Loss: 2.2473]\n",
      "Epoch    38: reducing learning rate of group 0 to 4.0000e-05.\n"
     ]
    },
    {
     "data": {
      "application/vnd.jupyter.widget-view+json": {
       "model_id": "1ddc8ac8017a43ed85b2808b97c7db40",
       "version_major": 2,
       "version_minor": 0
      },
      "text/plain": [
       "TRAIN Epoch 38:   0%|          | 0/84 [00:00<?, ?it/s]"
      ]
     },
     "metadata": {},
     "output_type": "display_data"
    },
    {
     "data": {
      "application/vnd.jupyter.widget-view+json": {
       "model_id": "2dc861fd299e4b73b9dff77ad6e230af",
       "version_major": 2,
       "version_minor": 0
      },
      "text/plain": [
       "VALID Epoch 38:   0%|          | 0/28 [00:00<?, ?it/s]"
      ]
     },
     "metadata": {},
     "output_type": "display_data"
    },
    {
     "name": "stdout",
     "output_type": "stream",
     "text": [
      "[Epoch 39/50] [Train Loss: 2.0671] [Valid Loss: 2.2446]\n"
     ]
    },
    {
     "data": {
      "application/vnd.jupyter.widget-view+json": {
       "model_id": "ff30239180e642c09be710d6fcfa65f2",
       "version_major": 2,
       "version_minor": 0
      },
      "text/plain": [
       "TRAIN Epoch 39:   0%|          | 0/84 [00:00<?, ?it/s]"
      ]
     },
     "metadata": {},
     "output_type": "display_data"
    },
    {
     "data": {
      "application/vnd.jupyter.widget-view+json": {
       "model_id": "e1df73239f8d462fba7965f0e1122616",
       "version_major": 2,
       "version_minor": 0
      },
      "text/plain": [
       "VALID Epoch 39:   0%|          | 0/28 [00:00<?, ?it/s]"
      ]
     },
     "metadata": {},
     "output_type": "display_data"
    },
    {
     "name": "stdout",
     "output_type": "stream",
     "text": [
      "[Epoch 40/50] [Train Loss: 2.0699] [Valid Loss: 2.2430]\n"
     ]
    },
    {
     "data": {
      "application/vnd.jupyter.widget-view+json": {
       "model_id": "10270c0455db49e982f180671c3a2ec1",
       "version_major": 2,
       "version_minor": 0
      },
      "text/plain": [
       "TRAIN Epoch 40:   0%|          | 0/84 [00:00<?, ?it/s]"
      ]
     },
     "metadata": {},
     "output_type": "display_data"
    },
    {
     "data": {
      "application/vnd.jupyter.widget-view+json": {
       "model_id": "65e2563a89334a9a893b931f9004847a",
       "version_major": 2,
       "version_minor": 0
      },
      "text/plain": [
       "VALID Epoch 40:   0%|          | 0/28 [00:00<?, ?it/s]"
      ]
     },
     "metadata": {},
     "output_type": "display_data"
    },
    {
     "name": "stdout",
     "output_type": "stream",
     "text": [
      "[Epoch 41/50] [Train Loss: 2.0620] [Valid Loss: 2.2429]\n"
     ]
    },
    {
     "data": {
      "application/vnd.jupyter.widget-view+json": {
       "model_id": "e9a4405748e0448a9e80897a0b6f93a5",
       "version_major": 2,
       "version_minor": 0
      },
      "text/plain": [
       "TRAIN Epoch 41:   0%|          | 0/84 [00:00<?, ?it/s]"
      ]
     },
     "metadata": {},
     "output_type": "display_data"
    },
    {
     "data": {
      "application/vnd.jupyter.widget-view+json": {
       "model_id": "16bf6ecafd374b77a882d489f6d4e5c7",
       "version_major": 2,
       "version_minor": 0
      },
      "text/plain": [
       "VALID Epoch 41:   0%|          | 0/28 [00:00<?, ?it/s]"
      ]
     },
     "metadata": {},
     "output_type": "display_data"
    },
    {
     "name": "stdout",
     "output_type": "stream",
     "text": [
      "[Epoch 42/50] [Train Loss: 2.0586] [Valid Loss: 2.2459]\n"
     ]
    },
    {
     "data": {
      "application/vnd.jupyter.widget-view+json": {
       "model_id": "be7ed1bdfda5438bbe29ccf998dc9231",
       "version_major": 2,
       "version_minor": 0
      },
      "text/plain": [
       "TRAIN Epoch 42:   0%|          | 0/84 [00:00<?, ?it/s]"
      ]
     },
     "metadata": {},
     "output_type": "display_data"
    },
    {
     "data": {
      "application/vnd.jupyter.widget-view+json": {
       "model_id": "f5d3240c44b044fcae2527f462316f16",
       "version_major": 2,
       "version_minor": 0
      },
      "text/plain": [
       "VALID Epoch 42:   0%|          | 0/28 [00:00<?, ?it/s]"
      ]
     },
     "metadata": {},
     "output_type": "display_data"
    },
    {
     "name": "stdout",
     "output_type": "stream",
     "text": [
      "[Epoch 43/50] [Train Loss: 2.0563] [Valid Loss: 2.2425]\n"
     ]
    },
    {
     "data": {
      "application/vnd.jupyter.widget-view+json": {
       "model_id": "740dc516e75d49b394609e7163939b15",
       "version_major": 2,
       "version_minor": 0
      },
      "text/plain": [
       "TRAIN Epoch 43:   0%|          | 0/84 [00:00<?, ?it/s]"
      ]
     },
     "metadata": {},
     "output_type": "display_data"
    },
    {
     "data": {
      "application/vnd.jupyter.widget-view+json": {
       "model_id": "cdae0f1199b24ce1a413a0ff03482ed1",
       "version_major": 2,
       "version_minor": 0
      },
      "text/plain": [
       "VALID Epoch 43:   0%|          | 0/28 [00:00<?, ?it/s]"
      ]
     },
     "metadata": {},
     "output_type": "display_data"
    },
    {
     "name": "stdout",
     "output_type": "stream",
     "text": [
      "[Epoch 44/50] [Train Loss: 2.0610] [Valid Loss: 2.2429]\n",
      "Epoch    44: reducing learning rate of group 0 to 8.0000e-06.\n",
      "min_valid_loss: 2.2402010112668997\n"
     ]
    }
   ],
   "source": [
    "min_valid_loss = 1000\n",
    "\n",
    "for epoch in range(NUM_EPOCHS):\n",
    "  # train & valid\n",
    "  train_loss = runner.run(loader_train, epoch, 'TRAIN')\n",
    "  valid_loss = runner.run(loader_valid, epoch, 'VALID')\n",
    "  print(\"[Epoch %d/%d] [Train Loss: %.4f] [Valid Loss: %.4f]\" %\n",
    "        (epoch + 1, NUM_EPOCHS, train_loss, valid_loss))\n",
    "  \n",
    "  # save the model of minimum valid loss\n",
    "  if valid_loss < min_valid_loss:\n",
    "    min_valid_loss = valid_loss\n",
    "    torch.save(model, './min_valid_model.pt')\n",
    "  \n",
    "  # early stopping\n",
    "  if runner.early_stop(valid_loss, epoch + 1):\n",
    "    break\n",
    "\n",
    "print(\"min_valid_loss:\", min_valid_loss)"
   ]
  },
  {
   "cell_type": "code",
   "execution_count": 15,
   "metadata": {},
   "outputs": [
    {
     "data": {
      "application/vnd.jupyter.widget-view+json": {
       "model_id": "62a30573e9414ed9a1952ccb752d8179",
       "version_major": 2,
       "version_minor": 0
      },
      "text/plain": [
       "TEST:   0%|          | 0/28 [00:00<?, ?it/s]"
      ]
     },
     "metadata": {},
     "output_type": "display_data"
    },
    {
     "name": "stdout",
     "output_type": "stream",
     "text": [
      "auc=20.54%\n"
     ]
    }
   ],
   "source": [
    "# load the min_valid_model & check accuracy\n",
    "model = torch.load(\"./min_valid_model.pt\")\n",
    "runner = Runner(model=model, lr = LR, weight_decay = WEIGHT_DECAY, sr = SR, tags=TAGS)\n",
    "aucs = runner.test(loader_test)\n",
    "print(f'auc={aucs:.2f}%')"
   ]
  },
  {
   "cell_type": "markdown",
   "metadata": {},
   "source": [
    "# Train pre-trained model"
   ]
  },
  {
   "cell_type": "code",
   "execution_count": 15,
   "metadata": {},
   "outputs": [],
   "source": [
    "class CNN_Classifier(nn.Module):\n",
    "  def __init__(self, n_class=16):\n",
    "    super(CNN_Classifier, self).__init__()\n",
    "    self.pretrained_model = torchvision.models.resnet101(pretrained=True)\n",
    "    self.linear = nn.Linear(1000, n_class)\n",
    "\n",
    "  def forward(self, x):\n",
    "    x = self.pretrained_model(x)\n",
    "    x = x.view(x.size(0), -1)\n",
    "    x = self.linear(x)\n",
    "    out = nn.Softmax()(x)\n",
    "    return out"
   ]
  },
  {
   "cell_type": "code",
   "execution_count": 16,
   "metadata": {},
   "outputs": [],
   "source": [
    "# Training setup.\n",
    "LR = 1e-3  # learning rate\n",
    "SR = 1e-5  # stopping rate\n",
    "NUM_EPOCHS = 30\n",
    "WEIGHT_DECAY = 1e-5  # L2 regularization weight\n",
    "\n",
    "model = CNN_Classifier()\n",
    "runner = Runner(model=model, lr = LR, weight_decay = WEIGHT_DECAY, sr = SR, tags=TAGS)"
   ]
  },
  {
   "cell_type": "code",
   "execution_count": 17,
   "metadata": {},
   "outputs": [
    {
     "data": {
      "application/vnd.jupyter.widget-view+json": {
       "model_id": "3701fcfb5f1e44e7818e9224b8e14ef2",
       "version_major": 2,
       "version_minor": 0
      },
      "text/plain": [
       "TRAIN Epoch 00:   0%|          | 0/84 [00:00<?, ?it/s]"
      ]
     },
     "metadata": {},
     "output_type": "display_data"
    },
    {
     "data": {
      "application/vnd.jupyter.widget-view+json": {
       "model_id": "d9b517cd13c64d4f8852779ac41c3be4",
       "version_major": 2,
       "version_minor": 0
      },
      "text/plain": [
       "VALID Epoch 00:   0%|          | 0/28 [00:00<?, ?it/s]"
      ]
     },
     "metadata": {},
     "output_type": "display_data"
    },
    {
     "name": "stdout",
     "output_type": "stream",
     "text": [
      "[Epoch 1/30] [Train Loss: 2.7254] [Valid Loss: 2.6633]\n"
     ]
    },
    {
     "data": {
      "application/vnd.jupyter.widget-view+json": {
       "model_id": "4a56096a92be49b0b4c99ea76a76a811",
       "version_major": 2,
       "version_minor": 0
      },
      "text/plain": [
       "TRAIN Epoch 01:   0%|          | 0/84 [00:00<?, ?it/s]"
      ]
     },
     "metadata": {},
     "output_type": "display_data"
    },
    {
     "data": {
      "application/vnd.jupyter.widget-view+json": {
       "model_id": "41b91ba7fd2b4a9d900c685b4a0b405f",
       "version_major": 2,
       "version_minor": 0
      },
      "text/plain": [
       "VALID Epoch 01:   0%|          | 0/28 [00:00<?, ?it/s]"
      ]
     },
     "metadata": {},
     "output_type": "display_data"
    },
    {
     "name": "stdout",
     "output_type": "stream",
     "text": [
      "[Epoch 2/30] [Train Loss: 2.7240] [Valid Loss: 2.6655]\n"
     ]
    },
    {
     "data": {
      "application/vnd.jupyter.widget-view+json": {
       "model_id": "10ec5a0696bb402480dbc3045b24585a",
       "version_major": 2,
       "version_minor": 0
      },
      "text/plain": [
       "TRAIN Epoch 02:   0%|          | 0/84 [00:00<?, ?it/s]"
      ]
     },
     "metadata": {},
     "output_type": "display_data"
    },
    {
     "data": {
      "application/vnd.jupyter.widget-view+json": {
       "model_id": "1d4eb0b9b0404d2fbcc18dad0b9ca2c2",
       "version_major": 2,
       "version_minor": 0
      },
      "text/plain": [
       "VALID Epoch 02:   0%|          | 0/28 [00:00<?, ?it/s]"
      ]
     },
     "metadata": {},
     "output_type": "display_data"
    },
    {
     "name": "stdout",
     "output_type": "stream",
     "text": [
      "[Epoch 3/30] [Train Loss: 2.7247] [Valid Loss: 2.6633]\n"
     ]
    },
    {
     "data": {
      "application/vnd.jupyter.widget-view+json": {
       "model_id": "2ffd259830a540a4857101968fda2c26",
       "version_major": 2,
       "version_minor": 0
      },
      "text/plain": [
       "TRAIN Epoch 03:   0%|          | 0/84 [00:00<?, ?it/s]"
      ]
     },
     "metadata": {},
     "output_type": "display_data"
    },
    {
     "data": {
      "application/vnd.jupyter.widget-view+json": {
       "model_id": "ec141c0500654204ab3141f003028dea",
       "version_major": 2,
       "version_minor": 0
      },
      "text/plain": [
       "VALID Epoch 03:   0%|          | 0/28 [00:00<?, ?it/s]"
      ]
     },
     "metadata": {},
     "output_type": "display_data"
    },
    {
     "name": "stdout",
     "output_type": "stream",
     "text": [
      "[Epoch 4/30] [Train Loss: 2.7240] [Valid Loss: 2.6633]\n"
     ]
    },
    {
     "data": {
      "application/vnd.jupyter.widget-view+json": {
       "model_id": "9ed63852a1c14194b90efba0b7de33e3",
       "version_major": 2,
       "version_minor": 0
      },
      "text/plain": [
       "TRAIN Epoch 04:   0%|          | 0/84 [00:00<?, ?it/s]"
      ]
     },
     "metadata": {},
     "output_type": "display_data"
    },
    {
     "data": {
      "application/vnd.jupyter.widget-view+json": {
       "model_id": "ec70faed6e5b494e8f29b769c25483d5",
       "version_major": 2,
       "version_minor": 0
      },
      "text/plain": [
       "VALID Epoch 04:   0%|          | 0/28 [00:00<?, ?it/s]"
      ]
     },
     "metadata": {},
     "output_type": "display_data"
    },
    {
     "name": "stdout",
     "output_type": "stream",
     "text": [
      "[Epoch 5/30] [Train Loss: 2.7240] [Valid Loss: 2.6655]\n"
     ]
    },
    {
     "data": {
      "application/vnd.jupyter.widget-view+json": {
       "model_id": "7884105b09d54a70b24a915f5a0fabff",
       "version_major": 2,
       "version_minor": 0
      },
      "text/plain": [
       "TRAIN Epoch 05:   0%|          | 0/84 [00:00<?, ?it/s]"
      ]
     },
     "metadata": {},
     "output_type": "display_data"
    },
    {
     "data": {
      "application/vnd.jupyter.widget-view+json": {
       "model_id": "4b2f3c9b476f4b00a3be7ca1fa36021f",
       "version_major": 2,
       "version_minor": 0
      },
      "text/plain": [
       "VALID Epoch 05:   0%|          | 0/28 [00:00<?, ?it/s]"
      ]
     },
     "metadata": {},
     "output_type": "display_data"
    },
    {
     "name": "stdout",
     "output_type": "stream",
     "text": [
      "[Epoch 6/30] [Train Loss: 2.7240] [Valid Loss: 2.6633]\n"
     ]
    },
    {
     "data": {
      "application/vnd.jupyter.widget-view+json": {
       "model_id": "ca0b578d063c4391af703b06fd034b72",
       "version_major": 2,
       "version_minor": 0
      },
      "text/plain": [
       "TRAIN Epoch 06:   0%|          | 0/84 [00:00<?, ?it/s]"
      ]
     },
     "metadata": {},
     "output_type": "display_data"
    },
    {
     "data": {
      "application/vnd.jupyter.widget-view+json": {
       "model_id": "6989227a82ad4d6180d1b31066aa20d6",
       "version_major": 2,
       "version_minor": 0
      },
      "text/plain": [
       "VALID Epoch 06:   0%|          | 0/28 [00:00<?, ?it/s]"
      ]
     },
     "metadata": {},
     "output_type": "display_data"
    },
    {
     "name": "stdout",
     "output_type": "stream",
     "text": [
      "[Epoch 7/30] [Train Loss: 2.7240] [Valid Loss: 2.6655]\n",
      "Epoch     7: reducing learning rate of group 0 to 2.0000e-04.\n"
     ]
    },
    {
     "data": {
      "application/vnd.jupyter.widget-view+json": {
       "model_id": "8aae549fedbf4feba352f24abd3e7c56",
       "version_major": 2,
       "version_minor": 0
      },
      "text/plain": [
       "TRAIN Epoch 07:   0%|          | 0/84 [00:00<?, ?it/s]"
      ]
     },
     "metadata": {},
     "output_type": "display_data"
    },
    {
     "data": {
      "application/vnd.jupyter.widget-view+json": {
       "model_id": "479a6323cdc54f9e87ca2560e2300450",
       "version_major": 2,
       "version_minor": 0
      },
      "text/plain": [
       "VALID Epoch 07:   0%|          | 0/28 [00:00<?, ?it/s]"
      ]
     },
     "metadata": {},
     "output_type": "display_data"
    },
    {
     "name": "stdout",
     "output_type": "stream",
     "text": [
      "[Epoch 8/30] [Train Loss: 2.7247] [Valid Loss: 2.6633]\n"
     ]
    },
    {
     "data": {
      "application/vnd.jupyter.widget-view+json": {
       "model_id": "7ed3b6ebf4d84d5196b2ab6efc4a9ef6",
       "version_major": 2,
       "version_minor": 0
      },
      "text/plain": [
       "TRAIN Epoch 08:   0%|          | 0/84 [00:00<?, ?it/s]"
      ]
     },
     "metadata": {},
     "output_type": "display_data"
    },
    {
     "data": {
      "application/vnd.jupyter.widget-view+json": {
       "model_id": "235958a572874299a44b7282f6988b8a",
       "version_major": 2,
       "version_minor": 0
      },
      "text/plain": [
       "VALID Epoch 08:   0%|          | 0/28 [00:00<?, ?it/s]"
      ]
     },
     "metadata": {},
     "output_type": "display_data"
    },
    {
     "name": "stdout",
     "output_type": "stream",
     "text": [
      "[Epoch 9/30] [Train Loss: 2.7247] [Valid Loss: 2.6633]\n"
     ]
    },
    {
     "data": {
      "application/vnd.jupyter.widget-view+json": {
       "model_id": "5337603f15c04043bc413b3690ae7737",
       "version_major": 2,
       "version_minor": 0
      },
      "text/plain": [
       "TRAIN Epoch 09:   0%|          | 0/84 [00:00<?, ?it/s]"
      ]
     },
     "metadata": {},
     "output_type": "display_data"
    },
    {
     "data": {
      "application/vnd.jupyter.widget-view+json": {
       "model_id": "d5e8c667881343ad9cb4fa644b36a5b4",
       "version_major": 2,
       "version_minor": 0
      },
      "text/plain": [
       "VALID Epoch 09:   0%|          | 0/28 [00:00<?, ?it/s]"
      ]
     },
     "metadata": {},
     "output_type": "display_data"
    },
    {
     "name": "stdout",
     "output_type": "stream",
     "text": [
      "[Epoch 10/30] [Train Loss: 2.7240] [Valid Loss: 2.6633]\n"
     ]
    },
    {
     "data": {
      "application/vnd.jupyter.widget-view+json": {
       "model_id": "f67f0ab9c554439582a218963fb7d35b",
       "version_major": 2,
       "version_minor": 0
      },
      "text/plain": [
       "TRAIN Epoch 10:   0%|          | 0/84 [00:00<?, ?it/s]"
      ]
     },
     "metadata": {},
     "output_type": "display_data"
    },
    {
     "data": {
      "application/vnd.jupyter.widget-view+json": {
       "model_id": "f7d3334f6e5c42fdbd9e068859213453",
       "version_major": 2,
       "version_minor": 0
      },
      "text/plain": [
       "VALID Epoch 10:   0%|          | 0/28 [00:00<?, ?it/s]"
      ]
     },
     "metadata": {},
     "output_type": "display_data"
    },
    {
     "name": "stdout",
     "output_type": "stream",
     "text": [
      "[Epoch 11/30] [Train Loss: 2.7240] [Valid Loss: 2.6633]\n"
     ]
    },
    {
     "data": {
      "application/vnd.jupyter.widget-view+json": {
       "model_id": "8f7f15ae9c1840f7a43046d200ac6c28",
       "version_major": 2,
       "version_minor": 0
      },
      "text/plain": [
       "TRAIN Epoch 11:   0%|          | 0/84 [00:00<?, ?it/s]"
      ]
     },
     "metadata": {},
     "output_type": "display_data"
    },
    {
     "data": {
      "application/vnd.jupyter.widget-view+json": {
       "model_id": "815eb2c4251240a097dabdbdaf3992ed",
       "version_major": 2,
       "version_minor": 0
      },
      "text/plain": [
       "VALID Epoch 11:   0%|          | 0/28 [00:00<?, ?it/s]"
      ]
     },
     "metadata": {},
     "output_type": "display_data"
    },
    {
     "name": "stdout",
     "output_type": "stream",
     "text": [
      "[Epoch 12/30] [Train Loss: 2.7240] [Valid Loss: 2.6655]\n"
     ]
    },
    {
     "data": {
      "application/vnd.jupyter.widget-view+json": {
       "model_id": "633b86e7b11a49c5b1d89c64fe97fed7",
       "version_major": 2,
       "version_minor": 0
      },
      "text/plain": [
       "TRAIN Epoch 12:   0%|          | 0/84 [00:00<?, ?it/s]"
      ]
     },
     "metadata": {},
     "output_type": "display_data"
    },
    {
     "data": {
      "application/vnd.jupyter.widget-view+json": {
       "model_id": "1085ac205cfc45c190b4679b25b5ea99",
       "version_major": 2,
       "version_minor": 0
      },
      "text/plain": [
       "VALID Epoch 12:   0%|          | 0/28 [00:00<?, ?it/s]"
      ]
     },
     "metadata": {},
     "output_type": "display_data"
    },
    {
     "name": "stdout",
     "output_type": "stream",
     "text": [
      "[Epoch 13/30] [Train Loss: 2.7240] [Valid Loss: 2.6655]\n",
      "Epoch    13: reducing learning rate of group 0 to 4.0000e-05.\n"
     ]
    },
    {
     "data": {
      "application/vnd.jupyter.widget-view+json": {
       "model_id": "f318fe54e1314e30a00d25355dc82d23",
       "version_major": 2,
       "version_minor": 0
      },
      "text/plain": [
       "TRAIN Epoch 13:   0%|          | 0/84 [00:00<?, ?it/s]"
      ]
     },
     "metadata": {},
     "output_type": "display_data"
    },
    {
     "data": {
      "application/vnd.jupyter.widget-view+json": {
       "model_id": "31bf20956b5d4bd49b44ca5add0a9c20",
       "version_major": 2,
       "version_minor": 0
      },
      "text/plain": [
       "VALID Epoch 13:   0%|          | 0/28 [00:00<?, ?it/s]"
      ]
     },
     "metadata": {},
     "output_type": "display_data"
    },
    {
     "name": "stdout",
     "output_type": "stream",
     "text": [
      "[Epoch 14/30] [Train Loss: 2.7247] [Valid Loss: 2.6633]\n"
     ]
    },
    {
     "data": {
      "application/vnd.jupyter.widget-view+json": {
       "model_id": "bb9bf50266bb440197cd480a8d6aa516",
       "version_major": 2,
       "version_minor": 0
      },
      "text/plain": [
       "TRAIN Epoch 14:   0%|          | 0/84 [00:00<?, ?it/s]"
      ]
     },
     "metadata": {},
     "output_type": "display_data"
    },
    {
     "data": {
      "application/vnd.jupyter.widget-view+json": {
       "model_id": "02a6ff80de7748909c3d01f32f33b448",
       "version_major": 2,
       "version_minor": 0
      },
      "text/plain": [
       "VALID Epoch 14:   0%|          | 0/28 [00:00<?, ?it/s]"
      ]
     },
     "metadata": {},
     "output_type": "display_data"
    },
    {
     "name": "stdout",
     "output_type": "stream",
     "text": [
      "[Epoch 15/30] [Train Loss: 2.7240] [Valid Loss: 2.6633]\n"
     ]
    },
    {
     "data": {
      "application/vnd.jupyter.widget-view+json": {
       "model_id": "b602a9fe7b304adb87c7b6a68bd28da0",
       "version_major": 2,
       "version_minor": 0
      },
      "text/plain": [
       "TRAIN Epoch 15:   0%|          | 0/84 [00:00<?, ?it/s]"
      ]
     },
     "metadata": {},
     "output_type": "display_data"
    },
    {
     "data": {
      "application/vnd.jupyter.widget-view+json": {
       "model_id": "ac08e9f924c8411a95db01798aa7ad56",
       "version_major": 2,
       "version_minor": 0
      },
      "text/plain": [
       "VALID Epoch 15:   0%|          | 0/28 [00:00<?, ?it/s]"
      ]
     },
     "metadata": {},
     "output_type": "display_data"
    },
    {
     "name": "stdout",
     "output_type": "stream",
     "text": [
      "[Epoch 16/30] [Train Loss: 2.7240] [Valid Loss: 2.6633]\n"
     ]
    },
    {
     "data": {
      "application/vnd.jupyter.widget-view+json": {
       "model_id": "f633782cfc1b4bd297b921938433d28a",
       "version_major": 2,
       "version_minor": 0
      },
      "text/plain": [
       "TRAIN Epoch 16:   0%|          | 0/84 [00:00<?, ?it/s]"
      ]
     },
     "metadata": {},
     "output_type": "display_data"
    },
    {
     "data": {
      "application/vnd.jupyter.widget-view+json": {
       "model_id": "a543638a8fc3427681250b6f1f5063d6",
       "version_major": 2,
       "version_minor": 0
      },
      "text/plain": [
       "VALID Epoch 16:   0%|          | 0/28 [00:00<?, ?it/s]"
      ]
     },
     "metadata": {},
     "output_type": "display_data"
    },
    {
     "name": "stdout",
     "output_type": "stream",
     "text": [
      "[Epoch 17/30] [Train Loss: 2.7240] [Valid Loss: 2.6633]\n"
     ]
    },
    {
     "data": {
      "application/vnd.jupyter.widget-view+json": {
       "model_id": "ada8352f3de04cd3a7c570393381dcff",
       "version_major": 2,
       "version_minor": 0
      },
      "text/plain": [
       "TRAIN Epoch 17:   0%|          | 0/84 [00:00<?, ?it/s]"
      ]
     },
     "metadata": {},
     "output_type": "display_data"
    },
    {
     "data": {
      "application/vnd.jupyter.widget-view+json": {
       "model_id": "56fc0ad2e2b842189a0c17f650b8c324",
       "version_major": 2,
       "version_minor": 0
      },
      "text/plain": [
       "VALID Epoch 17:   0%|          | 0/28 [00:00<?, ?it/s]"
      ]
     },
     "metadata": {},
     "output_type": "display_data"
    },
    {
     "name": "stdout",
     "output_type": "stream",
     "text": [
      "[Epoch 18/30] [Train Loss: 2.7240] [Valid Loss: 2.6655]\n"
     ]
    },
    {
     "data": {
      "application/vnd.jupyter.widget-view+json": {
       "model_id": "c34bfdc268ef465799826c842b7c2ae1",
       "version_major": 2,
       "version_minor": 0
      },
      "text/plain": [
       "TRAIN Epoch 18:   0%|          | 0/84 [00:00<?, ?it/s]"
      ]
     },
     "metadata": {},
     "output_type": "display_data"
    },
    {
     "data": {
      "application/vnd.jupyter.widget-view+json": {
       "model_id": "cd212af5a7164293a63a024e0ca7659a",
       "version_major": 2,
       "version_minor": 0
      },
      "text/plain": [
       "VALID Epoch 18:   0%|          | 0/28 [00:00<?, ?it/s]"
      ]
     },
     "metadata": {},
     "output_type": "display_data"
    },
    {
     "name": "stdout",
     "output_type": "stream",
     "text": [
      "[Epoch 19/30] [Train Loss: 2.7240] [Valid Loss: 2.6633]\n",
      "Epoch    19: reducing learning rate of group 0 to 8.0000e-06.\n"
     ]
    }
   ],
   "source": [
    "for epoch in range(NUM_EPOCHS):\n",
    "  train_loss = runner.run(loader_train, epoch, 'TRAIN')\n",
    "  valid_loss = runner.run(loader_valid, epoch, 'VALID')\n",
    "  print(\"[Epoch %d/%d] [Train Loss: %.4f] [Valid Loss: %.4f]\" %\n",
    "        (epoch + 1, NUM_EPOCHS, train_loss, valid_loss))\n",
    "  if runner.early_stop(valid_loss, epoch + 1):\n",
    "    break"
   ]
  },
  {
   "cell_type": "code",
   "execution_count": 18,
   "metadata": {},
   "outputs": [
    {
     "data": {
      "application/vnd.jupyter.widget-view+json": {
       "model_id": "93cfeca5595146fc9913d02197f3a94f",
       "version_major": 2,
       "version_minor": 0
      },
      "text/plain": [
       "TEST:   0%|          | 0/28 [00:00<?, ?it/s]"
      ]
     },
     "metadata": {},
     "output_type": "display_data"
    },
    {
     "name": "stdout",
     "output_type": "stream",
     "text": [
      "auc=20.09%\n"
     ]
    }
   ],
   "source": [
    "aucs = runner.test(loader_test)\n",
    "print(f'auc={aucs:.2f}%')"
   ]
  },
  {
   "cell_type": "code",
   "execution_count": null,
   "metadata": {},
   "outputs": [],
   "source": []
  }
 ],
 "metadata": {
  "interpreter": {
   "hash": "fd69f43f58546b570e94fd7eba7b65e6bcc7a5bbc4eab0408017d18902915d69"
  },
  "kernelspec": {
   "display_name": "Python 3.7.12 64-bit",
   "name": "python3"
  },
  "language_info": {
   "codemirror_mode": {
    "name": "ipython",
    "version": 3
   },
   "file_extension": ".py",
   "mimetype": "text/x-python",
   "name": "python",
   "nbconvert_exporter": "python",
   "pygments_lexer": "ipython3",
   "version": "3.7.12"
  },
  "orig_nbformat": 4
 },
 "nbformat": 4,
 "nbformat_minor": 2
}
